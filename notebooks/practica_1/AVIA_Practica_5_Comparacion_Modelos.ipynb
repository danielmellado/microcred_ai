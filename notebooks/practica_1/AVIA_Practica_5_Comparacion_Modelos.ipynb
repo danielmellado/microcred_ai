{
  "cells": [
    {
      "cell_type": "markdown",
      "metadata": {
        "id": "WMpVmvRnjECL"
      },
      "source": [
        "<img src=\"data:image/png;base64, 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\" width=\"300\" align=\"right\">\n",
        "\n",
        "</br>\n",
        "<img src=https://www.udc.es/export/sites/udc/silazarillo/_galeria_imgs/03_Simbolo_logo_cor.png_2063069294.png width=\"300\" align=\"left\">\n",
        "\n",
        "</br></br></br>\n",
        "\n",
        "### <font color=green>Microcredencial Algoritmos Verdes para la IA: Diseño e implementación<font>\n",
        "\n",
        "## <font color=green>Introducción al aprendizaje automático<font>\n"
      ]
    },
    {
      "cell_type": "markdown",
      "metadata": {
        "id": "go8XKFkqjECO"
      },
      "source": []
    },
    {
      "cell_type": "markdown",
      "metadata": {
        "id": "1zv9fXRCjECO"
      },
      "source": [
        "# Ejercicio 5: Comparación de modelos\n",
        "\n",
        "#### Ejemplo de uso de contrastes de hipótesis para la comparación de múltiples modelos"
      ]
    },
    {
      "cell_type": "markdown",
      "metadata": {
        "id": "m_KH-RHHjECO"
      },
      "source": [
        "#### Importación de las librerías.\n",
        "\n",
        "Se importan las librerías de PyTorch (`torch`, `nn`, `optim`, `DataLoader`) para definir y entrenar los modelos. Se mantiene `KNeighborsClassifier` de scikit-learn porque es un modelo no paramétrico y no se puede convertir a una arquitectura de red neuronal con parámetros entrenables de forma trivial. Las librerías estadísticas se mantienen porque su propósito es analizar las puntuaciones de precisión, no el modelo en sí."
      ]
    },
    {
      "cell_type": "code",
      "execution_count": null,
      "metadata": {
        "id": "Q_LYoeWJjECP"
      },
      "outputs": [],
      "source": [
        "import numpy as np\n",
        "import random\n",
        "import pandas as pd\n",
        "import matplotlib.pyplot as plt\n",
        "import scipy.stats as stats\n",
        "from statsmodels.stats.multicomp import MultiComparison\n",
        "import torch\n",
        "import torch.nn as nn\n",
        "import torch.optim as optim\n",
        "from torch.utils.data import TensorDataset, DataLoader\n",
        "from sklearn import datasets\n",
        "from sklearn.model_selection import StratifiedKFold\n",
        "from sklearn.neighbors import KNeighborsClassifier # Se mantiene ya que no es un modelo paramétrico\n",
        "from sklearn.metrics import accuracy_score"
      ]
    },
    {
      "cell_type": "markdown",
      "source": [
        "### Inicialización de semillas\n"
      ],
      "metadata": {
        "id": "JQjyAl7dm2Qh"
      }
    },
    {
      "cell_type": "code",
      "source": [
        "# --- fijar semillas para reproducibilidad ---\n",
        "torch.manual_seed(1)\n",
        "np.random.seed(1)\n",
        "random.seed(1)\n"
      ],
      "metadata": {
        "id": "P0Il7cSumzvo"
      },
      "execution_count": null,
      "outputs": []
    },
    {
      "cell_type": "markdown",
      "metadata": {
        "id": "qfQRAcP2jECQ"
      },
      "source": [
        "### Lectura de los datos del Iris.\n",
        "\n",
        "Trabajaremos de nuevo con el conjunto de datos Iris.\n",
        "Se lee el archivo CSV y se separan las características (X) de las etiquetas (t). Las etiquetas de clase, que originalmente son strings, se mapean a valores enteros (0, 1, 2) para que puedan ser utilizadas por PyTorch. Se definen los parámetros del modelo, como el número de entradas (4 características de la flor) y el número de salidas (3 clases de flor)."
      ]
    },
    {
      "cell_type": "code",
      "execution_count": null,
      "metadata": {
        "id": "hLCq48CwjECQ"
      },
      "outputs": [],
      "source": [
        "# Carga de datos\n",
        "Datos = pd.read_csv(\"/iris.data\", header=None)\n",
        "X = Datos.iloc[:,:-1].values  # Convertir a numpy array\n",
        "t = Datos.iloc[:,-1].values   # Convertir a numpy array\n",
        "\n",
        "# Convertir las etiquetas de string a enteros\n",
        "unique_classes = np.unique(t)\n",
        "class_to_int = {cls: i for i, cls in enumerate(unique_classes)}\n",
        "t_int = np.array([class_to_int[cls] for cls in t])\n",
        "\n",
        "\n",
        "# Parámetros del modelo basados en el dataset de Iris\n",
        "input_dim = X.shape[1]  # 4 características\n",
        "output_dim = len(unique_classes) # 3 clases\n",
        "hidden_dim = 16\n",
        "num_epochs = 100\n",
        "learning_rate = 0.01"
      ]
    },
    {
      "cell_type": "markdown",
      "source": [
        "### Definición de los modelos.\n",
        "\n",
        "Se definen dos modelos de PyTorch que emulan la regresión logística (`LogisticRegressionPyTorch`) y un modelo basado en redes de neuronas (`SimpleMLP`). `LogisticRegressionPyTorch` tiene una capa lineal que clasifica las 4 características de entrada en 3 clases de salida. `SimpleMLP` añade una capa oculta con una función de activación ReLU para capturar relaciones no lineales en los datos."
      ],
      "metadata": {
        "id": "5bPmFMFdlC7p"
      }
    },
    {
      "cell_type": "code",
      "source": [
        "# Definición del modelo de regresión logística con PyTorch\n",
        "class LogisticRegressionPyTorch(nn.Module):\n",
        "    def __init__(self, input_dim, output_dim):\n",
        "        super(LogisticRegressionPyTorch, self).__init__()\n",
        "        self.linear = nn.Linear(input_dim, output_dim)\n",
        "\n",
        "    def forward(self, x):\n",
        "        return self.linear(x)\n",
        "\n",
        "# Definición de un modelo de red neuronal simple\n",
        "class SimpleMLP(nn.Module):\n",
        "    def __init__(self, input_dim, hidden_dim, output_dim):\n",
        "        super(SimpleMLP, self).__init__()\n",
        "        self.fc1 = nn.Linear(input_dim, hidden_dim)\n",
        "        self.relu = nn.ReLU()\n",
        "        self.fc2 = nn.Linear(hidden_dim, output_dim)\n",
        "\n",
        "    def forward(self, x):\n",
        "        out = self.fc1(x)\n",
        "        out = self.relu(out)\n",
        "        out = self.fc2(out)\n",
        "        return out\n"
      ],
      "metadata": {
        "id": "1ExA3OFglHqh"
      },
      "execution_count": null,
      "outputs": []
    },
    {
      "cell_type": "markdown",
      "metadata": {
        "id": "4gRVWXvijECQ"
      },
      "source": [
        "#### Validación cruzada de los modelos (Logistic Regression, MLP y KNN).\n",
        "\n",
        "* Configuración de la validación cruzada y métricas.\n",
        "Se establece el número de paquetes (`folds`) y se preparan los conjuntos para cada paquete, manteniendo la proporción de clases en cada paquete (estratificación).\n",
        "  \n",
        "  `random_state` fija los paquetes, pero PyTorch sigue siendo estocástico (inicialización, barajado). Por eso se fija la semilla al inicio del cuaderno.\n",
        "* Se crean las estructuras para guardar los resultados de cada iteración.\n",
        "* Se realiza el bucle de validación cruzada:\n",
        "\n",
        "  `skf.split` devuelve índices para train/test en cada paquete, preservando la distribución de clases de t_int (etiquetas enteras).\n",
        "\n",
        "  Se extraen los datos de entrenamiento (train) y prueba (test) del paquete actual y se convierten a tensores.\n",
        "\n",
        "* Los modelos de PyTorch se entrenan con un bucle explícito de épocas, optimizador y función de pérdida. Después del entrenamiento, se evalúan en el conjunto de prueba y se usa `torch.max` para obtener las predicciones, que se convierten a NumPy para calcular la precisión con `accuracy_score`.\n",
        "* El modelo `KNeighborsClassifier` de scikit-learn se entrena y evalúa de la forma habitual en cada paquete."
      ]
    },
    {
      "cell_type": "code",
      "execution_count": null,
      "metadata": {
        "id": "O2YetUMVjECR"
      },
      "outputs": [],
      "source": [
        "CV = 20\n",
        "skf = StratifiedKFold(n_splits=CV, shuffle=True, random_state=1)\n",
        "\n",
        "# Estructuras de resultados\n",
        "scoresLR = pd.DataFrame(np.zeros([1, CV]), columns=range(CV))\n",
        "scoresMLP = pd.DataFrame(np.zeros([1, CV]), columns=range(CV))\n",
        "scoresKNN = pd.DataFrame(np.zeros([1, CV]), columns=range(CV))\n",
        "\n",
        "# Bucle de validación cruzada\n",
        "i = 0\n",
        "for train_index, test_index in skf.split(X, t_int):\n",
        "    # Obtener los datos del pliegue de validación cruzada\n",
        "    X_train, X_test = X[train_index], X[test_index]\n",
        "    t_train, t_test = t_int[train_index], t_int[test_index]\n",
        "\n",
        "    # Convertir a tensores y DataLoaders\n",
        "    X_train_tensor = torch.tensor(X_train, dtype=torch.float32)\n",
        "    t_train_tensor = torch.tensor(t_train, dtype=torch.long)\n",
        "    X_test_tensor = torch.tensor(X_test, dtype=torch.float32)\n",
        "\n",
        "    train_dataset = TensorDataset(X_train_tensor, t_train_tensor)\n",
        "    train_loader = DataLoader(train_dataset, batch_size=32, shuffle=True)\n",
        "\n",
        "    # --- Modelo 1: Regresión Logística (PyTorch) ---\n",
        "    modelLR_pt = LogisticRegressionPyTorch(input_dim, output_dim)\n",
        "    criterion = nn.CrossEntropyLoss()\n",
        "    optimizer = optim.Adam(modelLR_pt.parameters(), lr=learning_rate)\n",
        "\n",
        "    for epoch in range(num_epochs):\n",
        "        for inputs, labels in train_loader:\n",
        "            optimizer.zero_grad()\n",
        "            outputs = modelLR_pt(inputs)\n",
        "            loss = criterion(outputs, labels)\n",
        "            loss.backward()\n",
        "            optimizer.step()\n",
        "    # Evaluación del modelo\n",
        "    modelLR_pt.eval()\n",
        "    with torch.no_grad():\n",
        "        outputs = modelLR_pt(X_test_tensor)\n",
        "        _, y_pred_pt = torch.max(outputs, 1)\n",
        "    # Almacenamiento de la accuracy\n",
        "    scoresLR[i] = accuracy_score(t_test, y_pred_pt.numpy())\n",
        "\n",
        "    # --- Modelo 2: Red Neuronal Simple (PyTorch) ---\n",
        "    modelMLP = SimpleMLP(input_dim, hidden_dim, output_dim)\n",
        "    criterion = nn.CrossEntropyLoss()\n",
        "    optimizer = optim.Adam(modelMLP.parameters(), lr=learning_rate)\n",
        "\n",
        "    for epoch in range(num_epochs):\n",
        "        for inputs, labels in train_loader:\n",
        "            optimizer.zero_grad()\n",
        "            outputs = modelMLP(inputs)\n",
        "            loss = criterion(outputs, labels)\n",
        "            loss.backward()\n",
        "            optimizer.step()\n",
        "\n",
        "    # Evaluación del modelo\n",
        "    modelMLP.eval()\n",
        "    with torch.no_grad():\n",
        "        outputs = modelMLP(X_test_tensor)\n",
        "        _, y_pred_mlp = torch.max(outputs, 1)\n",
        "    # Almacenamiento de la accuracy\n",
        "    scoresMLP[i] = accuracy_score(t_test, y_pred_mlp.numpy())\n",
        "\n",
        "    # --- Modelo 3: KNN (scikit-learn) ---\n",
        "    modelKNN = KNeighborsClassifier(n_neighbors=3) # Un valor más razonable para el dataset de Iris\n",
        "    modelKNN.fit(X_train, t_train)\n",
        "    # Evaluación del modelo\n",
        "    y_pred_knn = modelKNN.predict(X_test)\n",
        "    # Almacenamiento de la accuracy\n",
        "    scoresKNN[i] = accuracy_score(t_test, y_pred_knn)\n",
        "\n",
        "    i += 1\n"
      ]
    },
    {
      "cell_type": "markdown",
      "metadata": {
        "id": "FA12kVQejECT"
      },
      "source": [
        "#### Contraste de hipótesis:\n",
        "\n",
        "Primero se muestran los resultados obtenidos aplicando el test de [Kruskall-Wallis](https://docs.scipy.org/doc/scipy/reference/generated/scipy.stats.kruskal.html#scipy.stats.kruskal) y el test de [Anova](https://docs.scipy.org/doc/scipy/reference/generated/scipy.stats.f_oneway.html).\n",
        "* Kruskal-Wallis → test no paramétrico (para distribuciones que no son normales).\n",
        "* ANOVA (`f_oneway`) → test paramétrico (requiere normalidad y homocedasticidad).\n",
        "\n",
        "Ambos devuelven un p-valor → la probabilidad de obtener los datos bajo la hipótesis nula.\n",
        "\n",
        "La hipótesis nula es “los modelos tienen la misma precisión media”. Si se rechaza la hipótesis, entonces se puede afirmar que los modelos son diferentes y, posteriormente, se aplican dos test de comparación múltiple mediante el uso de la clase [MultiComparison](https://www.statsmodels.org/stable/generated/statsmodels.sandbox.stats.multicomp.MultiComparison.html).\n",
        "\n",
        "Estos métodos comprueban si hay diferencias significativas con un `p<0.05`, corrigiendo el hecho de que se están haciendo múltiples comparaciones que normalmente aumentarían la probabilidad de que se identifique una diferencia significativa.\n",
        "\n",
        "Un resultado de \"reject = true\" significa que se ha observado una diferencia significativa:\n",
        "\n",
        "- Método de Holm-Bonferroni.\n",
        "\n",
        "  * Emplea la función `allpairtest`: aplica un test entre todos los pares de modelos (LR vs MLP, LR vs KNN, MLP vs KNN).\n",
        "\n",
        "  * En este caso, se usa un t-test pareado (`stats.ttest_rel`) porque se comparan los mismos paquetes `\n",
        "\n",
        "  * Se corrige la significancia con el método de Holm (control del error tipo I).\n",
        "\n",
        "- Método de Tukey.\n",
        "\n",
        "  *  Se emplea para ello la función [tukeyhsd](https://www.statsmodels.org/stable/generated/statsmodels.sandbox.stats.multicomp.MultiComparison.tukeyhsd.html#statsmodels.sandbox.stats.multicomp.MultiComparison.tukeyhsd) que muestra qué pares de modelos difieren significativamente."
      ]
    },
    {
      "cell_type": "code",
      "execution_count": null,
      "metadata": {
        "id": "Vwa631hIjECT"
      },
      "outputs": [],
      "source": [
        "# Se fija el nivel de significancia α = 0.05 (5%).\n",
        "# Es el umbral para decidir si rechazar la hipótesis nula en los tests estadísticos.\n",
        "alpha = 0.05\n",
        "# Calculamos la media de accuracy para cada modelo\n",
        "print ('Media de precisión de los modelos:')\n",
        "print ('LR:', scoresLR.mean(axis=1).values[0],\n",
        "      'MLP:', scoresMLP.mean(axis=1).values[0],\n",
        "      'KNN:', scoresKNN.mean(axis=1).values[0])\n",
        "\n",
        "# Tests de comparación (Kruskal y ANOVA)\n",
        "pVal = stats.kruskal(scoresLR.values.ravel(), scoresMLP.values.ravel(), scoresKNN.values.ravel())[1]\n",
        "pVal2 = stats.f_oneway(scoresLR.values.ravel(), scoresMLP.values.ravel(), scoresKNN.values.ravel())[1]\n",
        "\n",
        "print ('p-valor KrusW:', pVal)\n",
        "print ('p-valor ANOVA:', pVal2)\n",
        "\n",
        "if pVal <= alpha:\n",
        "    print('Rechazamos la hipótesis: los modelos son diferentes\\n')\n",
        "\n",
        "    # Vector con todas las precisiones concatenadas (LR, MLP, KNN).\n",
        "    stacked_data = np.vstack((scoresLR.values.ravel(), scoresMLP.values.ravel(), scoresKNN.values.ravel()))\n",
        "    stacked_model = np.vstack((np.repeat('modelLR',CV),np.repeat('modelMLP',CV),np.repeat('modelKNN',CV))).ravel()\n",
        "    stacked_data = stacked_data.ravel()\n",
        "\n",
        "    # Test de comparación múltiple\n",
        "    MultiComp = MultiComparison(stacked_data, stacked_model)\n",
        "    comp = MultiComp.allpairtest(stats.ttest_rel, method='Holm')\n",
        "    # Imprime tabla de resultados con diferencias, estadísticos y p-valores ajustados.\n",
        "    print (comp[0])\n",
        "\n",
        "    print(MultiComp.tukeyhsd(alpha=0.05))\n",
        "else:\n",
        "    print('Aceptamos la hipótesis: los modelos son iguales')\n",
        "\n",
        "# Visualización de los resultados con el diagrama de cajas\n",
        "data_plot = [scoresLR.values.ravel(), scoresMLP.values.ravel(), scoresKNN.values.ravel()]\n",
        "fig7, ax = plt.subplots()\n",
        "ax.set_title('Precisión de los Modelos (PyTorch vs scikit-learn)')\n",
        "ax.boxplot(data_plot, labels=['LR (PyTorch)', 'MLP (PyTorch)', 'KNN (scikit-learn)'])\n",
        "plt.show()\n"
      ]
    },
    {
      "cell_type": "code",
      "execution_count": null,
      "metadata": {
        "id": "2j6kA3lhjECT"
      },
      "outputs": [],
      "source": []
    },
    {
      "cell_type": "code",
      "execution_count": null,
      "metadata": {
        "id": "UMmFmswJjECT"
      },
      "outputs": [],
      "source": []
    }
  ],
  "metadata": {
    "kernelspec": {
      "display_name": "Python 3 (Spyder)",
      "language": "python3",
      "name": "python3"
    },
    "language_info": {
      "codemirror_mode": {
        "name": "ipython",
        "version": 3
      },
      "file_extension": ".py",
      "mimetype": "text/x-python",
      "name": "python",
      "nbconvert_exporter": "python",
      "pygments_lexer": "ipython3",
      "version": "3.9.7"
    },
    "colab": {
      "provenance": []
    }
  },
  "nbformat": 4,
  "nbformat_minor": 0
}