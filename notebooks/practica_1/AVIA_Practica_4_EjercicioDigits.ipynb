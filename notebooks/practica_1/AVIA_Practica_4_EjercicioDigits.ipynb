{
  "cells": [
    {
      "cell_type": "markdown",
      "metadata": {
        "id": "jKzWimGGdYJq"
      },
      "source": [
        "<img src=\"data:image/png;base64, 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\" width=\"300\" align=\"right\">\n",
        "\n",
        "</br>\n",
        "<img src=https://www.udc.es/export/sites/udc/silazarillo/_galeria_imgs/03_Simbolo_logo_cor.png_2063069294.png width=\"300\" align=\"left\">\n",
        "\n",
        "</br></br></br>\n",
        "\n",
        "### <font color=green>Microcredencial Algoritmos Verdes para la IA: Diseño e implementación<font>\n",
        "\n",
        "## <font color=green>Introducción al aprendizaje automático<font>"
      ]
    },
    {
      "cell_type": "markdown",
      "metadata": {
        "id": "5XWHNmTvdYJt"
      },
      "source": []
    },
    {
      "cell_type": "markdown",
      "metadata": {
        "tags": [],
        "id": "aUgtBqA2dYJu"
      },
      "source": [
        "# Ejercicio 3: Evaluación de un clasificador para el reconocimiento de dígitos\n",
        "\n",
        "#### Contiene algunos ejemplos de aplicación de métricas para la evaluación de modelos en problemas de clasificación supervisada. En concreto, en su aplicación en el reconocimiento de imágenes de dígitos escritos a mano por varias personas"
      ]
    },
    {
      "cell_type": "markdown",
      "metadata": {
        "id": "0HICuKCwdYJu"
      },
      "source": [
        "### Importación de las librerías básicas ([numpy](https://numpy.org) y [matplotlib](https://matplotlib.org/)) que se usarán para operaciones auxiliares y creación de gráficos.\n",
        "\n",
        "### Importación de las librerías de PyTorch: `torch`, `nn` para definir el modelo, `optim` para el optimizador y `DataLoader` para manejar los datos.\n",
        "\n",
        "### Importación de las métricas de scikit-learn."
      ]
    },
    {
      "cell_type": "code",
      "execution_count": null,
      "metadata": {
        "id": "oZgH6KwUdYJv"
      },
      "outputs": [],
      "source": [
        "import matplotlib.pyplot as plt\n",
        "import numpy as np\n",
        "import torch\n",
        "import torch.nn as nn\n",
        "import torch.optim as optim\n",
        "from torch.utils.data import TensorDataset, DataLoader\n",
        "from sklearn import datasets\n",
        "from sklearn.model_selection import train_test_split\n",
        "from sklearn.metrics import accuracy_score, recall_score, precision_score, confusion_matrix, ConfusionMatrixDisplay, classification_report\n"
      ]
    },
    {
      "cell_type": "markdown",
      "metadata": {
        "id": "82SZI4kKdYJw"
      },
      "source": [
        "## Conjunto de datos\n",
        "\n",
        "#### El conjunto de datos consta de 1797 imágenes de dígitos (0-9) manuscritos de tamaño 8x8 píxeles. El atributo ``images`` del conjunto de datos almacena matrices de 8x8 de valores en escala de grises para cada imagen. Usaremos estas matrices para visualizar las primeras 6 imágenes. El atributo ``target`` del conjunto de datos almacena el dígito que representa cada imagen y esa información se incluye en el título de los gráficos que se muestran a continuación.\n",
        "\n",
        "*Nota: si estuviésemos trabajando con archivos de imagen (por ejemplo, archivos 'jpg'), los cargaríamos usando la función* `matplotlib.pyplot.imread`"
      ]
    },
    {
      "cell_type": "code",
      "execution_count": null,
      "metadata": {
        "id": "loY7Wh22dYJw"
      },
      "outputs": [],
      "source": [
        "digits = datasets.load_digits() # Carga el conjunto de datos que está disponible en la propia librería de scikit-learn\n",
        "\n",
        "_, axes = plt.subplots(nrows=1, ncols=6, figsize=(12, 8))        # Crea una figura con 1x6 subplots\n",
        "for ax, image, label in zip(axes, digits.images, digits.target): # Para cada una de los 6 ejes obtenemos una imagen\n",
        "    ax.set_axis_off()                                            # Eliminamos los ejes ya que no nos interesa mostrarlos\n",
        "    ax.imshow(image, cmap=plt.cm.gray_r)                         # Mostramos una imagen en el eje seleccionado\n",
        "    ax.set_title('Dato: %i' % label)                             # Añadimos como título de la imagen el número que representa"
      ]
    },
    {
      "cell_type": "markdown",
      "metadata": {
        "id": "FX1LRd5tdYJx"
      },
      "source": [
        "## Clasificación\n",
        "\n",
        "#### Para aplicar un clasificador a estos datos, necesitamos aplanar las imágenes, convirtiendo cada matriz 2-D de tamaño ``(8, 8)`` en un vector de tamaño ``(64,)``. Por tanto, todo el conjunto de datos tendrá un tamaño ``(n_samples, n_features)``, donde ``n_samples`` es el número de imágenes y ``n_features`` es el número total de pixels en cada imagen. Para aplanar los datos se empleará la función [reshape](https://numpy.org/doc/stable/reference/generated/numpy.reshape.html) de numpy que permite dar una nueva forma a una matriz sin cambiar sus datos:"
      ]
    },
    {
      "cell_type": "code",
      "execution_count": null,
      "metadata": {
        "id": "VfKFvilFdYJy"
      },
      "outputs": [],
      "source": [
        "n_samples = len(digits.images)                # Obtenemos el número de imágenes totales en el conjunto de datos\n",
        "data = digits.images.reshape((n_samples, -1)) # Se aplana la matriz de datos de tamaño (1797, 8, 8) a una (1797, 64)\n",
        "input_dim = 64\n",
        "output_dim = 10 # 10 dígitos (clases)"
      ]
    },
    {
      "cell_type": "markdown",
      "metadata": {
        "id": "3Y6sSB0HdYJy"
      },
      "source": [
        "#### Posteriormente, con la función [train_test_split](https://scikit-learn.org/stable/modules/generated/sklearn.model_selection.train_test_split.html) dividimos los datos en los subconjuntos de entrenamiento (70%) y test (30%).\n",
        "\n",
        "Se crea un tensor para cada conjunto `X_train`, `X_test`, `t_train` y `t_test`. Las características se convierten a `float32`, y las etiquetas se convierten a `long` (formato esperado por la función de pérdida CrossEntropyLoss).\n",
        "Finalmente, se crean `DataLoader` para manejar los datos en lotes, esencial para un entrenamiento eficiente en PyTorch."
      ]
    },
    {
      "cell_type": "code",
      "execution_count": null,
      "metadata": {
        "id": "o_ZUonR2dYJy"
      },
      "outputs": [],
      "source": [
        "X_train, X_test, t_train, t_test = train_test_split(data, digits.target, train_size=0.7)\n",
        "print(\"El conjunto de entrenamiento contiene\", len(t_train), \"datos\")\n",
        "print(\"El conjunto de test contiene\", len(t_test), \"datos\")\n",
        "\n",
        "# Convertir los datos a tensores de PyTorch\n",
        "X_train_tensor = torch.tensor(X_train, dtype=torch.float32)\n",
        "t_train_tensor = torch.tensor(t_train, dtype=torch.long)\n",
        "X_test_tensor = torch.tensor(X_test, dtype=torch.float32)\n",
        "t_test_tensor = torch.tensor(t_test, dtype=torch.long)\n",
        "\n",
        "# Crear DataLoaders para iterar sobre los datos en lotes\n",
        "train_dataset = TensorDataset(X_train_tensor, t_train_tensor)\n",
        "test_dataset = TensorDataset(X_test_tensor, t_test_tensor)\n",
        "\n",
        "train_loader = DataLoader(train_dataset, batch_size=64, shuffle=True)\n",
        "test_loader = DataLoader(test_dataset, batch_size=64, shuffle=False)\n"
      ]
    },
    {
      "cell_type": "markdown",
      "metadata": {
        "id": "M-rhEGFfdYJz"
      },
      "source": [
        "### Creación del modelo de Regresión Logística\n",
        "#### Se crea la clase llamada LogisticRegressionPyTorch que hereda de `nn.Module`, bloque base para todos los modelos de PyTorch. En el constructor `__init__`, se define la arquitectura del modelo, que en este caso es una sola capa lineal con un tamaño de entrada de 64 y un tamaño de salida de 10, uno por cada clase de dígito. El método `forward` pasa los datos a través de esta capa lineal."
      ]
    },
    {
      "cell_type": "code",
      "execution_count": null,
      "metadata": {
        "id": "RmvfcYE8dYJz"
      },
      "outputs": [],
      "source": [
        "class LogisticRegressionPyTorch(nn.Module):\n",
        "    def __init__(self, input_dim, output_dim):\n",
        "        super(LogisticRegressionPyTorch, self).__init__()\n",
        "        self.linear = nn.Linear(input_dim, output_dim)\n",
        "\n",
        "    def forward(self, x):\n",
        "        outputs = self.linear(x)\n",
        "        return outputs\n",
        "\n",
        "model_pt = LogisticRegressionPyTorch(input_dim, output_dim)\n"
      ]
    },
    {
      "cell_type": "markdown",
      "source": [
        "### Entrenamiento del modelo\n",
        "\n",
        "#### Se configura la función de pérdida (`nn.CrossEntropyLoss`) y el optimizador (`optim.Adam`), que ajustará los pesos del modelo. Dentro del bucle de entrenamiento, se itera sobre los datos en lotes. Por cada lote, se ponen los gradientes a cero, se realiza una pasada hacia adelante para obtener las predicciones, se calcula la pérdida, se propaga el error hacia atrás para calcular los gradientes y se actualizan los pesos del modelo."
      ],
      "metadata": {
        "id": "O67xz1vjfrop"
      }
    },
    {
      "cell_type": "code",
      "source": [
        "# Definir la función de pérdida y el optimizador\n",
        "criterion = nn.CrossEntropyLoss()\n",
        "optimizer = optim.Adam(model_pt.parameters(), lr=0.01)\n",
        "\n",
        "# Número de épocas\n",
        "num_epochs = 100\n",
        "\n",
        "# Bucle de entrenamiento\n",
        "for epoch in range(num_epochs):\n",
        "    for inputs, labels in train_loader:\n",
        "        # Poner los gradientes a cero\n",
        "        optimizer.zero_grad()\n",
        "\n",
        "        # Realizar la pasada hacia adelante (forward pass)\n",
        "        outputs = model_pt(inputs)\n",
        "\n",
        "        # Calcular la pérdida\n",
        "        loss = criterion(outputs, labels)\n",
        "\n",
        "        # Realizar la pasada hacia atrás (backward pass) y optimizar\n",
        "        loss.backward()\n",
        "        optimizer.step()\n",
        "\n",
        "    # Imprimir el progreso cada 10 épocas\n",
        "    if (epoch+1) % 10 == 0:\n",
        "        print(f'Epoch [{epoch+1}/{num_epochs}], Loss: {loss.item():.4f}')\n",
        "\n"
      ],
      "metadata": {
        "id": "-_jAjhkWfmMw"
      },
      "execution_count": null,
      "outputs": []
    },
    {
      "cell_type": "markdown",
      "source": [
        "### Evaluación del modelo\n",
        "\n",
        "Para la evaluación, se pone el modelo en modo `eval()`, se desactiva el cálculo de gradientes en el bloque `with torch.no_grad()`. Se itera sobre `test_loader` para obtener las predicciones, y se usa `torch.max` para encontrar el índice de la clase con la puntuación más alta. Los resultados del modelo se convierten a arrays de NumPy (`predicted.numpy()`) para ser compatibles con las funciones de scikit-learn."
      ],
      "metadata": {
        "id": "M73QOdOef1uC"
      }
    },
    {
      "cell_type": "code",
      "source": [
        "# Poner el modelo en modo de evaluación\n",
        "model_pt.eval()\n",
        "\n",
        "# Listas para almacenar las predicciones y etiquetas reales\n",
        "all_preds = []\n",
        "all_labels = []\n",
        "\n",
        "# Desactivar el cálculo de gradientes para la inferencia\n",
        "with torch.no_grad():\n",
        "    for inputs, labels in test_loader:\n",
        "        outputs = model_pt(inputs)\n",
        "        _, predicted = torch.max(outputs.data, 1)\n",
        "        all_preds.extend(predicted.numpy())\n",
        "        all_labels.extend(labels.numpy())\n",
        "\n",
        "\n",
        "\n"
      ],
      "metadata": {
        "id": "xslluPMCf6X9"
      },
      "execution_count": null,
      "outputs": []
    },
    {
      "cell_type": "markdown",
      "metadata": {
        "id": "ChCDeEyZdYJz"
      },
      "source": [
        "### Visualización de resultados\n",
        "#### A continuación, visualizamos las 6 primeras muestras del conjunto de test y mostramos en el título de cada imagen el valor del dígito que ha asignado el modelo de clasificación:"
      ]
    },
    {
      "cell_type": "code",
      "execution_count": null,
      "metadata": {
        "id": "OF3uTWsLdYJz"
      },
      "outputs": [],
      "source": [
        "# Visualización de las 6 primeras muestras del conjunto de test\n",
        "_, axes = plt.subplots(nrows=1, ncols=6, figsize=(12, 8))\n",
        "for ax, image, prediction in zip(axes, X_test, all_preds):\n",
        "    ax.set_axis_off()\n",
        "    image = image.reshape(8, 8)\n",
        "    ax.imshow(image, cmap=plt.cm.gray_r)\n",
        "    ax.set_title(f'Predicción: {prediction}')\n",
        "plt.show()\n"
      ]
    },
    {
      "cell_type": "markdown",
      "metadata": {
        "id": "hzCZy5GfdYJz"
      },
      "source": [
        "## Evaluación de rendimiento\n",
        "\n",
        "#### Para evaluar el rendimiento del modelo podemos emplear las métricas de evaluación disponibles en el módulo [metrics](https://scikit-learn.org/stable/modules/classes.html#sklearn-metrics-metrics) de la librería [scikit-learn](https://scikit-learn.org/stable/modules/model_evaluation.html).\n",
        "\n",
        "#### Además, podemos construir un informe completo, incluyendo métricas por cada clase, con la función [classification_report](https://scikit-learn.org/stable/modules/generated/sklearn.metrics.classification_report.html). Muestra algunas de las principales métricas:"
      ]
    },
    {
      "cell_type": "code",
      "execution_count": null,
      "metadata": {
        "id": "MzwcfiNDdYJ0"
      },
      "outputs": [],
      "source": [
        "# Imprimir el reporte de clasificación\n",
        "print(\"Informe de evaluación del clasificador sobre el conjunto de test:\\\\n\", classification_report(all_labels, all_preds))\n",
        "\n",
        "# Imprimir métricas individuales\n",
        "print(f\"Exactitud    : {100 * accuracy_score(all_labels, all_preds):.2f} %\")\n",
        "print(f\"Sensibilidad : {100 * recall_score(all_labels, all_preds, average='macro'):.2f} %\")\n",
        "print(f\"Precisión    : {100 * precision_score(all_labels, all_preds, average='macro'):.2f} %\")"
      ]
    },
    {
      "cell_type": "markdown",
      "metadata": {
        "id": "C2fBKzR8dYJ0"
      },
      "source": []
    },
    {
      "cell_type": "markdown",
      "metadata": {
        "id": "KaE8rbm-dYJ0"
      },
      "source": [
        "#### También podemos visualizar la matriz de confusión empleando las funciones [confusion_matrix](https://scikit-learn.org/stable/modules/generated/sklearn.metrics.confusion_matrix.html) y [ConfusionMatrixDisplay](https://scikit-learn.org/stable/modules/generated/sklearn.metrics.ConfusionMatrixDisplay.html) que permiten comparar los valores de los dígitos verdaderos y los valores de dígitos predichos:"
      ]
    },
    {
      "cell_type": "code",
      "execution_count": null,
      "metadata": {
        "id": "5ymuV3ysdYJ0"
      },
      "outputs": [],
      "source": [
        "# Utilizar scikit-learn para visualizar los resultados\n",
        "cm = confusion_matrix(all_labels, all_preds)\n",
        "disp = ConfusionMatrixDisplay(confusion_matrix=cm, display_labels=np.arange(10))\n",
        "disp.plot(xticks_rotation='vertical')\n",
        "plt.title(\"Matriz de Confusión - PyTorch\")\n",
        "plt.show()\n"
      ]
    },
    {
      "cell_type": "markdown",
      "metadata": {
        "id": "-otCXvAedYJ1"
      },
      "source": [
        "#### También podemos visualizar la matriz de confusión en modo texto:"
      ]
    },
    {
      "cell_type": "code",
      "execution_count": null,
      "metadata": {
        "id": "DNNUwvRQdYJ1"
      },
      "outputs": [],
      "source": [
        "print(f\"Matriz de confusión:\\n{cm}\")"
      ]
    }
  ],
  "metadata": {
    "kernelspec": {
      "display_name": "Python 3 (ipykernel)",
      "language": "python",
      "name": "python3"
    },
    "language_info": {
      "codemirror_mode": {
        "name": "ipython",
        "version": 3
      },
      "file_extension": ".py",
      "mimetype": "text/x-python",
      "name": "python",
      "nbconvert_exporter": "python",
      "pygments_lexer": "ipython3",
      "version": "3.9.7"
    },
    "colab": {
      "provenance": []
    }
  },
  "nbformat": 4,
  "nbformat_minor": 0
}