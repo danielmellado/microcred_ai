{
  "cells": [
    {
      "cell_type": "markdown",
      "metadata": {
        "id": "NG2u82IfLrRU"
      },
      "source": [
        "<img src=\"data:image/png;base64, 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\" width=\"300\" align=\"right\">\n",
        "\n",
        "</br>\n",
        "<img src=https://www.udc.es/export/sites/udc/silazarillo/_galeria_imgs/03_Simbolo_logo_cor.png_2063069294.png width=\"300\" align=\"left\">\n",
        "\n",
        "</br></br></br>\n",
        "\n",
        "### <font color=green>Microcredencial Algoritmos Verdes para la IA: Diseño e implementación<font>\n",
        "\n",
        "## <font color=green>Introducción al aprendizaje automático<font>\n"
      ]
    },
    {
      "cell_type": "markdown",
      "metadata": {
        "id": "YroGLCVsLrRW"
      },
      "source": [
        " ---\n",
        " ### Ejercicio 2: Evaluación de modelos de clasificación supervisada\n",
        " ---"
      ]
    },
    {
      "cell_type": "markdown",
      "metadata": {
        "id": "bq2edg8uLrRX"
      },
      "source": [
        "#### En este ejercicio vamos a trabajar con el conjunto de datos de identificación de [cáncer de piel](https://www.kaggle.com/kmader/skin-cancer-mnist-ham10000). El conjunto contiene 10.015 imágenes dermatoscópicas de 8x8 pixels. Las imágenes tienen que ser clasificadas en 7 tipos (0-7) que se corresponden con las siguientes lesiones: enfermedad de Bowens, carcinoma de células basales, lesión benigna similar a la queratosis, dermatofibroma, nevos melanocíticos, lesión vasular y melanoma.\n",
        "\n",
        "[<img src=https://storage.googleapis.com/kaggle-datasets-images/54339/103727/d0f9325d9f7d113719887bc22235e5d4/dataset-cover.png width=\"900\" align=\"left\">](https://archive.ics.uci.edu/ml/datasets/Iris)"
      ]
    },
    {
      "cell_type": "markdown",
      "metadata": {
        "id": "NyuKkep1LrRX"
      },
      "source": [
        "#### Importación de librerías necesarias:\n",
        "\n",
        "\n",
        "*   torch.nn se utiliza para construir la arquitectura del modelo (una capa lineal en este caso)\n",
        "*   torch.optim se utiliza para establecer el optimizador (por ejemplo, SGD o Adam)\n",
        "* TensorDataset y DataLoader se utilizan para manejar los datos de manera eficiente durante el entrenamiento en mini-lotes"
      ]
    },
    {
      "cell_type": "code",
      "execution_count": null,
      "metadata": {
        "id": "19Q-IW9SLrRY"
      },
      "outputs": [],
      "source": [
        "import pandas as pd\n",
        "import numpy as np\n",
        "import matplotlib.pyplot as plt\n",
        "import torch\n",
        "import torch.nn as nn\n",
        "import torch.optim as optim\n",
        "import torch.nn.functional as F\n",
        "from torch.utils.data import TensorDataset, DataLoader\n",
        "from sklearn.model_selection import train_test_split\n",
        "from sklearn.preprocessing import label_binarize\n",
        "from sklearn.metrics import confusion_matrix, ConfusionMatrixDisplay, classification_report, roc_curve, auc\n"
      ]
    },
    {
      "cell_type": "markdown",
      "metadata": {
        "id": "4smjJ1w0LrRZ"
      },
      "source": [
        "#### En primer lugar, se realizará la lectura del conjunto de datos partiendo del fichero hmnist_8_8_RGB.csv:"
      ]
    },
    {
      "cell_type": "code",
      "execution_count": null,
      "metadata": {
        "id": "0p2K-CxfLrRZ"
      },
      "outputs": [],
      "source": [
        "Datos  = pd.read_csv(\"/hmnist_8_8_RGB.csv\")"
      ]
    },
    {
      "cell_type": "markdown",
      "metadata": {
        "id": "pd8OuN2lLrRa"
      },
      "source": [
        "#### Se particionan los datos en dos tablas para las entradas del modelo y la salida (la clase). La última columna contiene la clase.\n",
        "#### Se muestran los datos en cada una de las clases:"
      ]
    },
    {
      "cell_type": "code",
      "execution_count": null,
      "metadata": {
        "id": "QnsuXHdYLrRa"
      },
      "outputs": [],
      "source": [
        "X = Datos.iloc[:,:-1].values\n",
        "t = Datos.iloc[:,-1].values\n",
        "X.shape\n",
        "\n",
        "Clases=['Bowens Disease','Basal Cell Carcinoma','Benign Keratosis-Like Lesion','Dermatofibroma','Melanocytic Nevi','Vasuclar Lesion','Melanoma']\n",
        "for i, c in enumerate(Clases):\n",
        "    print(\"Número de datos de la clase\", c, \":\", sum(t==i))"
      ]
    },
    {
      "cell_type": "markdown",
      "metadata": {
        "id": "F-bxXFbWLrRd"
      },
      "source": [
        "#### Se dividen los datos en dos conjuntos (entrenamiento y test). El conjunto de entrenamiento estará formado por el 70% de los datos y el de test por el 30% restante:"
      ]
    },
    {
      "cell_type": "code",
      "execution_count": null,
      "metadata": {
        "id": "TfLVde3BLrRd"
      },
      "outputs": [],
      "source": [
        "ndatos = len(t)\n",
        "X_train, X_test, t_train, t_test = train_test_split(X, t, train_size=0.7)\n",
        "print(\"El conjunto de entrenamiento contiene\", len(X_train), \"datos\")\n",
        "print(\"El conjunto de test contiene\", len(X_test), \"datos\")"
      ]
    },
    {
      "cell_type": "markdown",
      "metadata": {
        "id": "fAUbJ_bQLrRd"
      },
      "source": [
        "#### Se muestran los 6 primeros ejemplos del conjunto de entrenamiento. Como las imágenes son en color (RGB) cada dato tiene 3 valores por pixel (rojo, verde y azul). Por ello, al mostrar la imagen con la función imshow es necesario cambiar su tamaño de un vector de tamaño (192,) a una matriz (8,8,3):"
      ]
    },
    {
      "cell_type": "code",
      "execution_count": null,
      "metadata": {
        "id": "fnE3f1umLrRd"
      },
      "outputs": [],
      "source": [
        "_, axes = plt.subplots(nrows=1, ncols=6, figsize=(12, 8))      # Crea una figura con 1x6 subfiguras\n",
        "for ax, image, label in zip(axes, X_train, t_train):           # Para cada una de los 6 ejes obtenemos una imagen\n",
        "    ax.set_axis_off()                                          # Eliminamos los ejes ya que no nos interesa mostrarlos\n",
        "    ax.imshow(image.reshape(8,8,3), cmap=plt.cm.gray_r)        # Mostramos una imagen en el eje seleccionado\n",
        "    ax.set_title('Dato: %i' % label)                           # Añadimos como título de la imagen el número que representa"
      ]
    },
    {
      "cell_type": "markdown",
      "source": [
        "#### Se dividen los datos en dos conjuntos (entrenamiento y test). El conjunto de entrenamiento estará formado por el 80% de los datos y el de test por el 20% restante. Cada una de estas particiones se convertirá en un tensor.\n",
        "#### Se crean DataLoader para manejar los datos en lotes, esencial para un entrenamiento eficiente en PyTorch.\n"
      ],
      "metadata": {
        "id": "SKoa9RiOPepz"
      }
    },
    {
      "cell_type": "code",
      "source": [
        "# Convertir los datos a tensores de PyTorch\n",
        "# Los datos de entrada deben ser de tipo float para los modelos de PyTorch\n",
        "X_train_tensor = torch.tensor(X_train, dtype=torch.float32)\n",
        "t_train_tensor = torch.tensor(t_train, dtype=torch.long) # Las etiquetas deben ser de tipo long\n",
        "X_test_tensor = torch.tensor(X_test, dtype=torch.float32)\n",
        "t_test_tensor = torch.tensor(t_test, dtype=torch.long)\n",
        "\n",
        "# Crear DataLoaders para iterar sobre los datos en lotes\n",
        "train_dataset = TensorDataset(X_train_tensor, t_train_tensor)\n",
        "test_dataset = TensorDataset(X_test_tensor, t_test_tensor)\n",
        "\n",
        "train_loader = DataLoader(train_dataset, batch_size=64, shuffle=True)\n",
        "test_loader = DataLoader(test_dataset, batch_size=64, shuffle=False)"
      ],
      "metadata": {
        "id": "1ws_pJHdP5Sj"
      },
      "execution_count": null,
      "outputs": []
    },
    {
      "cell_type": "markdown",
      "source": [
        "En este paso definimos la arquitectura del modelo, que en este caso es una regresión logística multiclase.\n",
        "\n",
        "Se define una clase llamada LogisticRegressionPyTorch que hereda de nn.Module. En el método __init__, se define la capa lineal (nn.Linear) que realiza la regresión logística. La capa tiene un tamaño de entrada de 192 (8x8x3 píxeles) y un tamaño de salida de 7 (para las 7 clases). El método forward define cómo los datos fluyen a través del modelo."
      ],
      "metadata": {
        "id": "86vFZPoGQF_u"
      }
    },
    {
      "cell_type": "code",
      "source": [
        "class LogisticRegressionPyTorch(nn.Module):\n",
        "    def __init__(self, input_dim, output_dim):\n",
        "        super(LogisticRegressionPyTorch, self).__init__()\n",
        "        self.linear = nn.Linear(input_dim, output_dim)\n",
        "\n",
        "    def forward(self, x):\n",
        "        outputs = self.linear(x)\n",
        "        return outputs\n",
        "\n",
        "# El dataset tiene 10015 datos, y cada imagen es de 8x8x3 = 192 píxeles\n",
        "input_dim = 192\n",
        "output_dim = 7 # Hay 7 clases en el dataset\n",
        "\n",
        "model_pt = LogisticRegressionPyTorch(input_dim, output_dim)"
      ],
      "metadata": {
        "id": "AtbB206vQTwz"
      },
      "execution_count": null,
      "outputs": []
    },
    {
      "cell_type": "markdown",
      "metadata": {
        "id": "pr8UUnh7LrRd"
      },
      "source": [
        "#### Entrenamiento del modelo de [regresión logística](https://scikit-learn.org/stable/modules/generated/sklearn.linear_model.LogisticRegression.html):\n",
        "En PyTorch, el entrenamiento se realiza en un bucle explícito donde se configuran el optimizador y la función de pérdida, se procesan los datos en lotes y se actualizan los pesos del modelo."
      ]
    },
    {
      "cell_type": "code",
      "source": [
        "# Definir la función de pérdida y el optimizador\n",
        "criterion = nn.CrossEntropyLoss()\n",
        "optimizer = optim.SGD(model_pt.parameters(), lr=0.01) # Se puede usar también optim.Adam()\n",
        "\n",
        "# Número de épocas\n",
        "num_epochs = 100\n",
        "\n",
        "# Bucle de entrenamiento\n",
        "for epoch in range(num_epochs):\n",
        "    for inputs, labels in train_loader:\n",
        "        # Poner los gradientes a cero\n",
        "        optimizer.zero_grad()\n",
        "\n",
        "        # Realizar la pasada hacia adelante (forward pass)\n",
        "        outputs = model_pt(inputs)\n",
        "\n",
        "        # Calcular la pérdida\n",
        "        loss = criterion(outputs, labels)\n",
        "\n",
        "        # Realizar la pasada hacia atrás (backward pass) y optimizar\n",
        "        loss.backward()\n",
        "        optimizer.step()\n",
        "\n",
        "    # Imprimir el progreso cada 10 épocas\n",
        "    if (epoch+1) % 10 == 0:\n",
        "        print(f'Epoch [{epoch+1}/{num_epochs}], Loss: {loss.item():.4f}')"
      ],
      "metadata": {
        "id": "MKt3h-HGQlhX"
      },
      "execution_count": null,
      "outputs": []
    },
    {
      "cell_type": "markdown",
      "metadata": {
        "id": "tfJco7gdLrRe"
      },
      "source": [
        "#### Después del entrenamiento, se evalúa el rendimiento del modelo en los datos de prueba:\n",
        "* Para la evaluación, se pone el modelo en modo `eval()` para desactivar capas como Dropout o BatchNorm si estuvieran presentes.\n",
        "* El bloque `with torch.no_grad()` desactiva el cálculo de gradientes, lo que ahorra memoria y acelera la inferencia.\n",
        "* Se itera sobre  `test_loader` para obtener las predicciones\n",
        "* El método `model_pt(inputs)` devuelve las puntuaciones de decisión (logits).\n",
        "* La función `F.softmax()` se utiliza para convertir estos logits en un conjunto de probabilidades, donde la suma de las probabilidades para cada instancia es 1.\n",
        "* Las probabilidades y las etiquetas se recogen en listas que después se concatenan en arrays de NumPy para que puedan ser utilizadas por las funciones de scikit-learn."
      ]
    },
    {
      "cell_type": "code",
      "execution_count": null,
      "metadata": {
        "id": "9GmmEd1SLrRe"
      },
      "outputs": [],
      "source": [
        "# Poner el modelo en modo de evaluación\n",
        "model_pt.eval()\n",
        "\n",
        "# Lista para almacenar las probabilidades de clase\n",
        "y_score = []\n",
        "# Lista para almacenar las etiquetas reales\n",
        "true_labels = []\n",
        "\n",
        "# Desactivar el cálculo de gradientes para la inferencia\n",
        "with torch.no_grad():\n",
        "    for inputs, labels in test_loader:\n",
        "        # Obtener las puntuaciones crudas (logits)\n",
        "        outputs = model_pt(inputs)\n",
        "\n",
        "        # Aplicar Softmax para obtener las probabilidades\n",
        "        probabilities = F.softmax(outputs, dim=1)\n",
        "\n",
        "        # Almacenar las probabilidades y las etiquetas reales\n",
        "        y_score.append(probabilities.numpy())\n",
        "        true_labels.append(labels.numpy())\n",
        "\n",
        "# Concatenar las listas de numpy arrays\n",
        "y_score = np.concatenate(y_score, axis=0)\n",
        "true_labels = np.concatenate(true_labels, axis=0)"
      ]
    },
    {
      "cell_type": "markdown",
      "source": [
        "#### Cálculo y visualización de las curvas ROC (Receiver Operating Characteristic) y AUC (Area Under the Curve)\n"
      ],
      "metadata": {
        "id": "C6n2lvx9SzX4"
      }
    },
    {
      "cell_type": "markdown",
      "metadata": {
        "id": "zdcBh08gLrRf"
      },
      "source": [
        "Calculamos la Curva ROC:\n",
        "\n",
        "* `label_binarize` convierte `true_labels` (array 1D con etiquetas) en una matriz binaria (one-hot) de forma (n_samples, n_classes). Las clases están etiquetadas como 0,1,...,n_classes-1.\n",
        "* Esto es necesario porque `roc_curve` trabaja con problemas binarios. Para un problema multiclase, hay que calcular una curva por clase, tratando cada clase como \"positiva\" frente al resto (\"one vs all\").\n",
        "* El método `ravel()` aplana la matriz one-hot a un vector 1D con todos los 0/1 concatenados (longitud n_samples * n_classes). Al pasar los arrays aplanados se está calculando la curva ROC en modo micro-average (tratando cada par muestra/clase como una decisión binaria independiente).\n",
        "* Por qué micro-average? Porque concatena las decisiones binarias de todas las clases y calcula una única ROC global. Es útil cuando interesa el rendimiento global (cada instancia/clase tiene el mismo peso real)."
      ]
    },
    {
      "cell_type": "code",
      "source": [
        "# Binarizar las etiquetas de prueba para el cálculo de las curvas ROC\n",
        "n_classes = len(Clases)\n",
        "\n",
        "t_test_bin = label_binarize(true_labels, classes=np.arange(n_classes))\n",
        "\n",
        "\n",
        "\n",
        "fpr_micro, tpr_micro, _ = roc_curve(t_test_bin.ravel(), y_score.ravel())\n",
        "roc_auc_micro = auc(fpr_micro, tpr_micro)\n",
        "plt.figure()\n",
        "plt.plot(fpr_micro, tpr_micro, color='red', lw=2, label='Curva ROC micro-average (AUC = %0.3f)' % roc_auc_micro) # Muestra la curva ROC\n",
        "plt.plot([0, 1], [0, 1], color='k', lw=1, linestyle='--')  # Muestra la línea de referencia correspondiente a un decisión aleatoria\n",
        "plt.xlabel('Tasa de Falsos Positivos')\n",
        "plt.ylabel('Tasa de Verdaderos Positivos')\n",
        "plt.legend(loc=\"lower right\");"
      ],
      "metadata": {
        "id": "0tyoHcefXjub"
      },
      "execution_count": null,
      "outputs": []
    },
    {
      "cell_type": "markdown",
      "source": [
        "Calculamos la curva ROC y AUC por clases:\n",
        "\n",
        "* Convertimos las etiquetas a valores binarios one-hot, al igual que en el código anterior\n",
        "* El bucle genera un diccionario con la curva ROC y el AUC para cada clase.\n",
        "* Añadimos como referencia la curva ROC micro-average y su valor AUC.\n"
      ],
      "metadata": {
        "id": "CiaVcxsAXtnQ"
      }
    },
    {
      "cell_type": "code",
      "execution_count": null,
      "metadata": {
        "id": "lA4xIkaBLrRg"
      },
      "outputs": [],
      "source": [
        "# Binarizar las etiquetas de prueba para el cálculo de las curvas ROC\n",
        "n_classes = len(Clases)\n",
        "t_test_bin = label_binarize(true_labels, classes=np.arange(n_classes))\n",
        "\n",
        "\n",
        "# Cálculo de las curvas ROC y el área bajo la curva (AUC) para cada clase\n",
        "fpr = dict()\n",
        "tpr = dict()\n",
        "roc_auc = dict()\n",
        "for i in range(n_classes):\n",
        "    fpr[i], tpr[i], _ = roc_curve(t_test_bin[:, i], y_score[:, i])\n",
        "    roc_auc[i] = auc(fpr[i], tpr[i])\n",
        "\n",
        "# Cálculo de la curva ROC micro-average y el área bajo la curva (AUC)\n",
        "fpr_micro, tpr_micro, _ = roc_curve(t_test_bin.ravel(), y_score.ravel())\n",
        "roc_auc_micro = auc(fpr_micro, tpr_micro)\n",
        "\n",
        "# Visualización de las curvas ROC\n",
        "plt.figure(figsize=(10, 8))\n",
        "colors = ['aqua','blue','violet','gold','orange','pink','tan','purple','lime','red']\n",
        "for i in range(n_classes):\n",
        "    plt.plot(fpr[i], tpr[i], color=colors[i], lw=1, label='ROC clase %i (area = %0.3f)' % (i,roc_auc[i]))\n",
        "\n",
        "plt.plot(fpr_micro, tpr_micro, color='red', lw=2, linestyle=':', label='Curva ROC micro-average (AUC = %0.3f)' % roc_auc_micro)\n",
        "plt.plot([0, 1], [0, 1], color='k', lw=2, linestyle='--')\n",
        "plt.xlabel('Tasa de Falsos Positivos')\n",
        "plt.ylabel('Tasa de Verdaderos Positivos')\n",
        "plt.title('Curva ROC por clase')\n",
        "plt.legend(loc=\"lower right\")\n",
        "plt.show()"
      ]
    },
    {
      "cell_type": "code",
      "execution_count": null,
      "metadata": {
        "id": "rR-tPowbLrRg"
      },
      "outputs": [],
      "source": []
    }
  ],
  "metadata": {
    "kernelspec": {
      "display_name": "Python 3 (ipykernel)",
      "language": "python",
      "name": "python3"
    },
    "language_info": {
      "codemirror_mode": {
        "name": "ipython",
        "version": 3
      },
      "file_extension": ".py",
      "mimetype": "text/x-python",
      "name": "python",
      "nbconvert_exporter": "python",
      "pygments_lexer": "ipython3",
      "version": "3.9.7"
    },
    "colab": {
      "provenance": []
    }
  },
  "nbformat": 4,
  "nbformat_minor": 0
}