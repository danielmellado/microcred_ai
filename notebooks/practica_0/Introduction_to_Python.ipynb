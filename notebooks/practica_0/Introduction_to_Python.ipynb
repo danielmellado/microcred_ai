{
 "cells": [
  {
   "cell_type": "markdown",
   "id": "7f4a8f25",
   "metadata": {
    "id": "7f4a8f25"
   },
   "source": [
    "\n",
    "# Introduction to Python 🐍\n",
    "**Pre-work notebook** for the course:  \n",
    "**\"Green Algorithms for Artificial Intelligence: Design and Implementation\"**\n",
    "\n",
    "> Goal: become comfortable reading, writing, and running basic Python with good efficiency practices (time, memory, and energy) before the course begins.\n"
   ]
  },
  {
   "cell_type": "markdown",
   "id": "ab13d772",
   "metadata": {
    "id": "ab13d772"
   },
   "source": [
    "\n",
    "## What you'll find in this notebook\n",
    "1. Environment setup\n",
    "2. Running cells and getting help\n",
    "3. Essential syntax: variables, types, and operations\n",
    "4. Control structures\n",
    "5. Functions and modules\n",
    "6. Data structures (lists, tuples, dictionaries, sets)\n",
    "7. File I/O with *pathlib*\n",
    "8. NumPy and vectorization: foundations for efficient compute\n",
    "9. Pandas: data manipulation\n",
    "10. Quick visualization with Matplotlib\n",
    "11. Performance & efficiency: **CodeCarbon** energy/emissions tracking\n",
    "11.5. Template: **Hugging Face Transformers** + **CodeCarbon** (quick fine-tuning on SST-2)\n",
    "12. Practice exercises with solutions (at the end)\n"
   ]
  },
  {
   "cell_type": "markdown",
   "id": "6c705cc2",
   "metadata": {
    "id": "6c705cc2"
   },
   "source": [
    "## 1) Environment setup\n",
    "## How to open and run this notebook in **Google Colab**\n",
    "1. Go to Google Colab.\n",
    "2. **File → Upload notebook** and select this `.ipynb` file.\n",
    "3. (Optional) **Runtime → Change runtime type** and choose **GPU** or **TPU** if needed.\n",
    "4. Install dependencies in a cell, for example:\n",
    "   ```python\n",
    "   !pip -q install numpy pandas matplotlib codecarbon\n",
    "   ```\n",
    "5. Run the cells in order (**Runtime → Run all**) and inspect time & energy metrics via **CodeCarbon**.\n",
    "6. To save changes in Drive: **File → Save a copy in Drive**.\n",
    "\n",
    "> Tip: when measuring energy with CodeCarbon in Colab, avoid heavy tasks in other tabs to reduce measurement noise.\n"
   ]
  },
  {
   "cell_type": "markdown",
   "id": "a0e8f8b6",
   "metadata": {
    "id": "a0e8f8b6"
   },
   "source": [
    "\n",
    "## 2) Running cells and asking for help\n",
    "- Run a cell with **Shift+Enter**.\n",
    "- Use `help(obj)` or `obj?` for quick docs.\n"
   ]
  },
  {
   "cell_type": "code",
   "execution_count": 1,
   "id": "068f9ceb",
   "metadata": {
    "id": "068f9ceb"
   },
   "outputs": [
    {
     "name": "stdout",
     "output_type": "stream",
     "text": [
      "Hello, Python. x = 42\n"
     ]
    }
   ],
   "source": [
    "# Run this\n",
    "x = 42\n",
    "print(\"Hello, Python. x =\", x)"
   ]
  },
  {
   "cell_type": "code",
   "execution_count": 2,
   "id": "83c60344",
   "metadata": {
    "id": "83c60344"
   },
   "outputs": [
    {
     "name": "stdout",
     "output_type": "stream",
     "text": [
      "Help on built-in function len in module builtins:\n",
      "\n",
      "len(obj, /)\n",
      "    Return the number of items in a container.\n",
      "\n"
     ]
    }
   ],
   "source": [
    "# Quick help\n",
    "help(len)  # or use len? in an interactive cell"
   ]
  },
  {
   "cell_type": "markdown",
   "id": "46f73e4f",
   "metadata": {
    "id": "46f73e4f"
   },
   "source": [
    "\n",
    "## 3) Essential syntax: variables, types, and operations\n",
    "Python is **dynamic** and **strongly typed**. Common types:\n",
    "- `int`, `float`, `bool`, `str`, `None`\n",
    "- Arithmetic operators: `+ - * / // % **`\n",
    "- Comparison operators: `== != < <= > >=`\n",
    "- Logical operators: `and or not`\n"
   ]
  },
  {
   "cell_type": "code",
   "execution_count": 3,
   "id": "88f13a73",
   "metadata": {
    "id": "88f13a73"
   },
   "outputs": [
    {
     "name": "stdout",
     "output_type": "stream",
     "text": [
      "sum: 13\n",
      "power: 1000\n",
      "true division: 3.3333333333333335\n",
      "integer division: 3\n",
      "modulo: 1\n",
      "a>b?: True\n",
      "SUSTAINABLE AI 14\n"
     ]
    }
   ],
   "source": [
    "a = 10\n",
    "b = 3\n",
    "print(\"sum:\", a + b)\n",
    "print(\"power:\", a ** b)\n",
    "print(\"true division:\", a / b)\n",
    "print(\"integer division:\", a // b)\n",
    "print(\"modulo:\", a % b)\n",
    "print(\"a>b?:\", a > b)\n",
    "\n",
    "text = \"Sustainable AI\"\n",
    "print(text.upper(), len(text))"
   ]
  },
  {
   "cell_type": "markdown",
   "id": "9acff2ec",
   "metadata": {
    "id": "9acff2ec"
   },
   "source": [
    "\n",
    "## 4) Control structures\n",
    "### Conditionals and loops\n"
   ]
  },
  {
   "cell_type": "code",
   "execution_count": 4,
   "id": "a9c92d15",
   "metadata": {
    "id": "a9c92d15"
   },
   "outputs": [
    {
     "name": "stdout",
     "output_type": "stream",
     "text": [
      "odd\n",
      "i: 0\n",
      "i: 1\n",
      "i: 2\n",
      "i: 3\n",
      "i: 4\n"
     ]
    },
    {
     "data": {
      "text/plain": [
       "15"
      ]
     },
     "execution_count": 4,
     "metadata": {},
     "output_type": "execute_result"
    }
   ],
   "source": [
    "n = 7\n",
    "\n",
    "if n % 2 == 0:\n",
    "    print(\"even\")\n",
    "else:\n",
    "    print(\"odd\")\n",
    "\n",
    "# Loops\n",
    "for i in range(5):\n",
    "    print(\"i:\", i)\n",
    "\n",
    "# while with condition\n",
    "s = 0\n",
    "k = 1\n",
    "while k <= 5:\n",
    "    s += k\n",
    "    k += 1\n",
    "s"
   ]
  },
  {
   "cell_type": "markdown",
   "id": "709ddd09",
   "metadata": {
    "id": "709ddd09"
   },
   "source": [
    "\n",
    "## 5) Functions and modules\n",
    "- Define functions with `def`.\n",
    "- Document with *docstrings*.\n",
    "- Import modules with `import`.\n"
   ]
  },
  {
   "cell_type": "code",
   "execution_count": 5,
   "id": "544cacc4",
   "metadata": {
    "id": "544cacc4"
   },
   "outputs": [
    {
     "data": {
      "text/plain": [
       "[(1, False),\n",
       " (2, True),\n",
       " (3, True),\n",
       " (4, False),\n",
       " (5, True),\n",
       " (6, False),\n",
       " (7, True),\n",
       " (8, False),\n",
       " (9, False),\n",
       " (10, False),\n",
       " (11, True),\n",
       " (12, False),\n",
       " (13, True),\n",
       " (14, False),\n",
       " (15, False),\n",
       " (16, False),\n",
       " (17, True),\n",
       " (18, False),\n",
       " (19, True)]"
      ]
     },
     "execution_count": 5,
     "metadata": {},
     "output_type": "execute_result"
    }
   ],
   "source": [
    "def is_prime(n: int) -> bool:\n",
    "    \"\"\"Return True if n is prime, False otherwise.\"\"\"\n",
    "    if n < 2:\n",
    "        return False\n",
    "    if n % 2 == 0:\n",
    "        return n == 2\n",
    "    i = 3\n",
    "    while i * i <= n:\n",
    "        if n % i == 0:\n",
    "            return False\n",
    "        i += 2\n",
    "    return True\n",
    "\n",
    "[ (k, is_prime(k)) for k in range(1, 20) ]"
   ]
  },
  {
   "cell_type": "code",
   "execution_count": 6,
   "id": "3fc9becd",
   "metadata": {
    "id": "3fc9becd"
   },
   "outputs": [
    {
     "data": {
      "text/plain": [
       "(12.0, 3.141592653589793)"
      ]
     },
     "execution_count": 6,
     "metadata": {},
     "output_type": "execute_result"
    }
   ],
   "source": [
    "import math\n",
    "math.sqrt(144), math.pi"
   ]
  },
  {
   "cell_type": "markdown",
   "id": "f41786cd",
   "metadata": {
    "id": "f41786cd"
   },
   "source": [
    "\n",
    "## 6) Data structures\n"
   ]
  },
  {
   "cell_type": "code",
   "execution_count": 7,
   "id": "b217263e",
   "metadata": {
    "id": "b217263e"
   },
   "outputs": [
    {
     "data": {
      "text/plain": [
       "[1, 1, 2, 3, 4, 5, 9]"
      ]
     },
     "execution_count": 7,
     "metadata": {},
     "output_type": "execute_result"
    }
   ],
   "source": [
    "# Lists (mutable)\n",
    "nums = [3, 1, 4, 1, 5, 9]\n",
    "nums.append(2)\n",
    "nums.sort()\n",
    "nums"
   ]
  },
  {
   "cell_type": "code",
   "execution_count": 8,
   "id": "4de1d3eb",
   "metadata": {
    "id": "4de1d3eb"
   },
   "outputs": [
    {
     "data": {
      "text/plain": [
       "(10, 20)"
      ]
     },
     "execution_count": 8,
     "metadata": {},
     "output_type": "execute_result"
    }
   ],
   "source": [
    "# Tuples (immutable)\n",
    "point = (10, 20)\n",
    "point"
   ]
  },
  {
   "cell_type": "code",
   "execution_count": 9,
   "id": "8aa023c3",
   "metadata": {
    "id": "8aa023c3"
   },
   "outputs": [
    {
     "data": {
      "text/plain": [
       "150.0"
      ]
     },
     "execution_count": 9,
     "metadata": {},
     "output_type": "execute_result"
    }
   ],
   "source": [
    "# Dictionaries (key->value)\n",
    "energy = {\"CPU\": 65.0, \"GPU\": 150.0, \"TPU\": 120.0}\n",
    "energy[\"GPU\"]"
   ]
  },
  {
   "cell_type": "code",
   "execution_count": 10,
   "id": "b1f580d5",
   "metadata": {
    "id": "b1f580d5"
   },
   "outputs": [
    {
     "data": {
      "text/plain": [
       "{1, 2, 3}"
      ]
     },
     "execution_count": 10,
     "metadata": {},
     "output_type": "execute_result"
    }
   ],
   "source": [
    "# Sets (no duplicates)\n",
    "unique = set([1, 2, 2, 3, 3, 3])\n",
    "unique"
   ]
  },
  {
   "cell_type": "markdown",
   "id": "b25d7019",
   "metadata": {
    "id": "b25d7019"
   },
   "source": [
    "\n",
    "## 7) File I/O and *pathlib*\n"
   ]
  },
  {
   "cell_type": "code",
   "execution_count": 11,
   "id": "d512908c",
   "metadata": {
    "id": "d512908c"
   },
   "outputs": [
    {
     "name": "stdout",
     "output_type": "stream",
     "text": [
      "Content:\n",
      " Hello file!\n",
      "This is an example.\n"
     ]
    }
   ],
   "source": [
    "from pathlib import Path\n",
    "\n",
    "p = Path(\"demo.txt\")\n",
    "p.write_text(\"Hello file!\\nThis is an example.\")\n",
    "print(\"Content:\\n\", p.read_text())\n",
    "\n",
    "# Clean up\n",
    "p.unlink()"
   ]
  },
  {
   "cell_type": "markdown",
   "id": "8f3e1dd4",
   "metadata": {
    "id": "8f3e1dd4"
   },
   "source": [
    "\n",
    "## 8) NumPy and vectorization: foundations for efficient compute\n",
    "- `numpy` offers **efficient arrays** and vectorized operations (avoid Python loops).\n",
    "- Key for performance and energy: **less interpreter, more bulk operations**.\n"
   ]
  },
  {
   "cell_type": "code",
   "execution_count": 12,
   "id": "2187df86",
   "metadata": {
    "id": "2187df86"
   },
   "outputs": [
    {
     "data": {
      "text/plain": [
       "(array([     0.        ,  99999.84147098, 199996.90929743, 299991.14112001,\n",
       "        399983.2431975 ]),\n",
       " (100000,),\n",
       " dtype('float64'))"
      ]
     },
     "execution_count": 12,
     "metadata": {},
     "output_type": "execute_result"
    }
   ],
   "source": [
    "import numpy as np\n",
    "\n",
    "a = np.arange(100000, dtype=np.float64)\n",
    "b = np.arange(100000, 0, -1, dtype=np.float64)\n",
    "\n",
    "# Vectorized operation\n",
    "c = a * b + np.sin(a)\n",
    "c[:5], c.shape, c.dtype"
   ]
  },
  {
   "cell_type": "code",
   "execution_count": 13,
   "id": "c7e57b3a",
   "metadata": {
    "id": "c7e57b3a"
   },
   "outputs": [
    {
     "name": "stdout",
     "output_type": "stream",
     "text": [
      "Python loop time: 1.516 s\n",
      "NumPy time (with creation): 1.2182 s\n",
      "NumPy time (arrays already created): 0.0075 s\n"
     ]
    }
   ],
   "source": [
    "# Quick comparison (rough, not exact timing)\n",
    "import time\n",
    "\n",
    "def python_loop(a_list, b_list):\n",
    "    out = []\n",
    "    append = out.append\n",
    "    import math\n",
    "    for x, y in zip(a_list, b_list):\n",
    "        append(x*y + math.sin(x))\n",
    "    return out\n",
    "\n",
    "a_list = list(range(5000000))\n",
    "b_list = list(range(5000000, 0, -1))\n",
    "\n",
    "t0 = time.perf_counter()\n",
    "out_list = python_loop(a_list, b_list)\n",
    "t1 = time.perf_counter()\n",
    "\n",
    "t2 = time.perf_counter()\n",
    "out_np = np.array(a_list) * np.array(b_list) + np.sin(np.array(a_list))\n",
    "t3 = time.perf_counter()\n",
    "\n",
    "t4 = time.perf_counter()\n",
    "out_np = a * b + np.sin(a)\n",
    "t5 = time.perf_counter()\n",
    "\n",
    "print(\"Python loop time:\", round(t1 - t0, 4), \"s\")\n",
    "print(\"NumPy time (with creation):\", round(t3 - t2, 4), \"s\")\n",
    "print(\"NumPy time (arrays already created):\", round(t5 - t4, 4), \"s\")"
   ]
  },
  {
   "cell_type": "markdown",
   "id": "30c74b87",
   "metadata": {
    "id": "30c74b87"
   },
   "source": [
    "\n",
    "## 9) Pandas: data manipulation\n"
   ]
  },
  {
   "cell_type": "code",
   "execution_count": 14,
   "id": "9585178c",
   "metadata": {
    "id": "9585178c"
   },
   "outputs": [
    {
     "data": {
      "text/html": [
       "<div>\n",
       "<style scoped>\n",
       "    .dataframe tbody tr th:only-of-type {\n",
       "        vertical-align: middle;\n",
       "    }\n",
       "\n",
       "    .dataframe tbody tr th {\n",
       "        vertical-align: top;\n",
       "    }\n",
       "\n",
       "    .dataframe thead th {\n",
       "        text-align: right;\n",
       "    }\n",
       "</style>\n",
       "<table border=\"1\" class=\"dataframe\">\n",
       "  <thead>\n",
       "    <tr style=\"text-align: right;\">\n",
       "      <th></th>\n",
       "      <th>algorithm</th>\n",
       "      <th>accuracy</th>\n",
       "      <th>energy_wh</th>\n",
       "      <th>time_s</th>\n",
       "    </tr>\n",
       "  </thead>\n",
       "  <tbody>\n",
       "    <tr>\n",
       "      <th>0</th>\n",
       "      <td>A</td>\n",
       "      <td>0.81</td>\n",
       "      <td>5.1</td>\n",
       "      <td>1.2</td>\n",
       "    </tr>\n",
       "    <tr>\n",
       "      <th>1</th>\n",
       "      <td>B</td>\n",
       "      <td>0.85</td>\n",
       "      <td>7.3</td>\n",
       "      <td>2.1</td>\n",
       "    </tr>\n",
       "    <tr>\n",
       "      <th>2</th>\n",
       "      <td>C</td>\n",
       "      <td>0.83</td>\n",
       "      <td>6.0</td>\n",
       "      <td>1.5</td>\n",
       "    </tr>\n",
       "    <tr>\n",
       "      <th>3</th>\n",
       "      <td>A</td>\n",
       "      <td>0.82</td>\n",
       "      <td>5.0</td>\n",
       "      <td>1.1</td>\n",
       "    </tr>\n",
       "    <tr>\n",
       "      <th>4</th>\n",
       "      <td>B</td>\n",
       "      <td>0.84</td>\n",
       "      <td>7.1</td>\n",
       "      <td>2.0</td>\n",
       "    </tr>\n",
       "  </tbody>\n",
       "</table>\n",
       "</div>"
      ],
      "text/plain": [
       "  algorithm  accuracy  energy_wh  time_s\n",
       "0         A      0.81        5.1     1.2\n",
       "1         B      0.85        7.3     2.1\n",
       "2         C      0.83        6.0     1.5\n",
       "3         A      0.82        5.0     1.1\n",
       "4         B      0.84        7.1     2.0"
      ]
     },
     "execution_count": 14,
     "metadata": {},
     "output_type": "execute_result"
    }
   ],
   "source": [
    "import pandas as pd\n",
    "\n",
    "df = pd.DataFrame({\n",
    "    \"algorithm\": [\"A\", \"B\", \"C\", \"A\", \"B\", \"C\"],\n",
    "    \"accuracy\": [0.81, 0.85, 0.83, 0.82, 0.84, 0.86],\n",
    "    \"energy_wh\": [5.1, 7.3, 6.0, 5.0, 7.1, 6.2],\n",
    "    \"time_s\": [1.2, 2.1, 1.5, 1.1, 2.0, 1.6]\n",
    "})\n",
    "df.head()"
   ]
  },
  {
   "cell_type": "code",
   "execution_count": 15,
   "id": "e456a155",
   "metadata": {
    "id": "e456a155"
   },
   "outputs": [
    {
     "data": {
      "text/html": [
       "<div>\n",
       "<style scoped>\n",
       "    .dataframe tbody tr th:only-of-type {\n",
       "        vertical-align: middle;\n",
       "    }\n",
       "\n",
       "    .dataframe tbody tr th {\n",
       "        vertical-align: top;\n",
       "    }\n",
       "\n",
       "    .dataframe thead th {\n",
       "        text-align: right;\n",
       "    }\n",
       "</style>\n",
       "<table border=\"1\" class=\"dataframe\">\n",
       "  <thead>\n",
       "    <tr style=\"text-align: right;\">\n",
       "      <th></th>\n",
       "      <th>accuracy_mean</th>\n",
       "      <th>energy_mean</th>\n",
       "      <th>time_mean</th>\n",
       "    </tr>\n",
       "    <tr>\n",
       "      <th>algorithm</th>\n",
       "      <th></th>\n",
       "      <th></th>\n",
       "      <th></th>\n",
       "    </tr>\n",
       "  </thead>\n",
       "  <tbody>\n",
       "    <tr>\n",
       "      <th>A</th>\n",
       "      <td>0.815</td>\n",
       "      <td>5.05</td>\n",
       "      <td>1.15</td>\n",
       "    </tr>\n",
       "    <tr>\n",
       "      <th>B</th>\n",
       "      <td>0.845</td>\n",
       "      <td>7.20</td>\n",
       "      <td>2.05</td>\n",
       "    </tr>\n",
       "    <tr>\n",
       "      <th>C</th>\n",
       "      <td>0.845</td>\n",
       "      <td>6.10</td>\n",
       "      <td>1.55</td>\n",
       "    </tr>\n",
       "  </tbody>\n",
       "</table>\n",
       "</div>"
      ],
      "text/plain": [
       "           accuracy_mean  energy_mean  time_mean\n",
       "algorithm                                       \n",
       "A                  0.815         5.05       1.15\n",
       "B                  0.845         7.20       2.05\n",
       "C                  0.845         6.10       1.55"
      ]
     },
     "execution_count": 15,
     "metadata": {},
     "output_type": "execute_result"
    }
   ],
   "source": [
    "# Aggregations\n",
    "summary = df.groupby(\"algorithm\").agg(accuracy_mean=(\"accuracy\", \"mean\"),\n",
    "                                      energy_mean=(\"energy_wh\", \"mean\"),\n",
    "                                      time_mean=(\"time_s\", \"mean\"))\n",
    "summary"
   ]
  },
  {
   "cell_type": "markdown",
   "id": "3bc683be",
   "metadata": {
    "id": "3bc683be"
   },
   "source": [
    "\n",
    "## 10) Quick visualization with Matplotlib\n",
    "> Tip: avoid hard-coding styles/colors when you just need a quick look.\n"
   ]
  },
  {
   "cell_type": "code",
   "execution_count": 16,
   "id": "2dd70632",
   "metadata": {
    "id": "2dd70632"
   },
   "outputs": [
    {
     "data": {
      "image/png": "[encoded data removed]",
      "text/plain": [
       "<Figure size 640x480 with 1 Axes>"
      ]
     },
     "metadata": {},
     "output_type": "display_data"
    }
   ],
   "source": [
    "import matplotlib.pyplot as plt\n",
    "\n",
    "summary_sorted = summary.sort_values(\"accuracy_mean\")\n",
    "plt.figure()\n",
    "plt.bar(summary_sorted.index, summary_sorted[\"accuracy_mean\"])\n",
    "plt.title(\"Mean accuracy per algorithm\")\n",
    "plt.xlabel(\"Algorithm\")\n",
    "plt.ylabel(\"Mean accuracy\")\n",
    "plt.show()"
   ]
  },
  {
   "cell_type": "markdown",
   "id": "66f9dd59",
   "metadata": {
    "id": "66f9dd59"
   },
   "source": [
    "\n",
    "## 11) Performance and efficiency: time, memory, and **energy** with CodeCarbon\n",
    "We'll measure **execution time**, **estimated energy consumption**, and **CO₂e emissions** using **[CodeCarbon](https://mlco2.github.io/codecarbon/)**.\n",
    "\n",
    "**Key ideas:**\n",
    "- **Measure before you optimize**: avoid blind changes.\n",
    "- **Vectorize** when possible (less interpreter → less CPU → less energy).\n",
    "- **Reduce copies** and pick proper dtypes (`float32` vs `float64`).\n",
    "- **Be mindful of parallelism**: more threads/GPUs do not always mean less total energy for a given SLA.\n"
   ]
  },
  {
   "cell_type": "markdown",
   "id": "da676be2",
   "metadata": {
    "id": "da676be2"
   },
   "source": [
    "\n",
    "### 11.1) Setup: install CodeCarbon (Colab or local)\n",
    "Run the cell below if you don't have `codecarbon` installed. In **Google Colab** it is typically enough.\n"
   ]
  },
  {
   "cell_type": "code",
   "execution_count": 17,
   "id": "bee8f878",
   "metadata": {
    "id": "bee8f878"
   },
   "outputs": [
    {
     "name": "stderr",
     "output_type": "stream",
     "text": [
      "/home/daniel/.virtualenvs/udc/lib/python3.13/site-packages/codecarbon/core/gpu.py:4: FutureWarning: The pynvml package is deprecated. Please install nvidia-ml-py instead. If you did not install pynvml directly, please report this to the maintainers of the package that installed pynvml for you.\n",
      "  import pynvml\n"
     ]
    }
   ],
   "source": [
    "# Install CodeCarbon if needed (ignore if already installed).\n",
    "# In some environments you may need to restart the kernel after installation.\n",
    "try:\n",
    "    import codecarbon  # noqa: F401\n",
    "except ImportError:\n",
    "    !pip install codecarbon"
   ]
  },
  {
   "cell_type": "markdown",
   "id": "0a5a2afd",
   "metadata": {
    "id": "0a5a2afd"
   },
   "source": [
    "\n",
    "### 11.2) Measuring a simple experiment (pure Python vs NumPy)\n",
    "We compare two approaches for the same task: a **Python loop** and a **vectorized NumPy** version.  \n",
    "**CodeCarbon** will estimate energy and emissions. For portability, we use **offline** mode and set the country to **Spain (ESP)**.\n"
   ]
  },
  {
   "cell_type": "markdown",
   "id": "9e3ac12d",
   "metadata": {
    "id": "9e3ac12d"
   },
   "source": [
    "**What this cell does**\n",
    "\n",
    "Define two equivalent functions (Python loop vs NumPy) and measure **time**, **energy**, and **emissions** with CodeCarbon (offline, ESP)."
   ]
  },
  {
   "cell_type": "code",
   "execution_count": 18,
   "id": "473ddd04",
   "metadata": {
    "id": "473ddd04"
   },
   "outputs": [
    {
     "name": "stderr",
     "output_type": "stream",
     "text": [
      "[codecarbon WARNING @ 23:36:35] Multiple instances of codecarbon are allowed to run at the same time.\n",
      "[codecarbon INFO @ 23:36:35] [setup] RAM Tracking...\n",
      "[codecarbon INFO @ 23:36:35] [setup] CPU Tracking...\n",
      "[codecarbon WARNING @ 23:36:35] No CPU tracking mode found. Falling back on estimation based on TDP for CPU. \n",
      " Linux OS detected: Please ensure RAPL files exist at /sys/class/powercap/intel-rapl/subsystem to measure CPU\n",
      "\n",
      "[codecarbon INFO @ 23:36:35] CPU Model on constant consumption mode: Intel(R) Core(TM) i7-10510U CPU @ 1.80GHz\n",
      "[codecarbon WARNING @ 23:36:35] No CPU tracking mode found. Falling back on CPU load mode.\n",
      "[codecarbon INFO @ 23:36:35] [setup] GPU Tracking...\n",
      "[codecarbon INFO @ 23:36:35] No GPU found.\n",
      "[codecarbon INFO @ 23:36:35] The below tracking methods have been set up:\n",
      "                RAM Tracking Method: RAM power estimation model\n",
      "                CPU Tracking Method: cpu_load\n",
      "                GPU Tracking Method: Unspecified\n",
      "            \n",
      "[codecarbon INFO @ 23:36:35] >>> Tracker's metadata:\n",
      "[codecarbon INFO @ 23:36:35]   Platform system: Linux-6.16.3-200.fc42.x86_64-x86_64-with-glibc2.41\n",
      "[codecarbon INFO @ 23:36:35]   Python version: 3.13.7\n",
      "[codecarbon INFO @ 23:36:35]   CodeCarbon version: 3.0.4\n",
      "[codecarbon INFO @ 23:36:35]   Available RAM : 15.276 GB\n",
      "[codecarbon INFO @ 23:36:35]   CPU count: 8 thread(s) in 1 physical CPU(s)\n",
      "[codecarbon INFO @ 23:36:35]   CPU model: Intel(R) Core(TM) i7-10510U CPU @ 1.80GHz\n",
      "[codecarbon INFO @ 23:36:35]   GPU count: None\n",
      "[codecarbon INFO @ 23:36:35]   GPU model: None\n",
      "[codecarbon INFO @ 23:36:38] Emissions data (if any) will be saved to file /home/daniel/Devel/UDC/emissions.csv\n",
      "[codecarbon INFO @ 23:36:39] Energy consumed for RAM : 0.000003 kWh. RAM Power : 10.0 W\n",
      "[codecarbon INFO @ 23:36:40] Delta energy consumed for CPU with cpu_load : 0.000000 kWh, power : 1.5628757505000006 W\n",
      "[codecarbon INFO @ 23:36:40] Energy consumed for All CPU : 0.000000 kWh\n",
      "[codecarbon INFO @ 23:36:40] 0.000004 kWh of electricity used since the beginning.\n",
      "[codecarbon WARNING @ 23:36:40] Multiple instances of codecarbon are allowed to run at the same time.\n",
      "[codecarbon INFO @ 23:36:40] [setup] RAM Tracking...\n",
      "[codecarbon INFO @ 23:36:40] [setup] CPU Tracking...\n"
     ]
    },
    {
     "name": "stdout",
     "output_type": "stream",
     "text": [
      "\n",
      "Carbon emissions from computation: 0.0006 g CO2eq\n",
      "\n",
      "Detailed emissions data: EmissionsData(timestamp='2025-09-07T23:36:40', project_name='codecarbon', run_id='bdd5f0fa-1557-4b50-ab4b-1a60360b1ca6', experiment_id='5b0fa12a-3dd7-45bb-9766-cc326314d9f1', duration=1.6482632959996408, emissions=6.378816614910352e-07, emissions_rate=3.8700228479223154e-07, cpu_power=1.5628757505000006, gpu_power=0.0, ram_power=10.0, cpu_energy=4.957737129520839e-07, gpu_energy=0.0, ram_energy=3.1691597055542945e-06, energy_consumed=3.6649334185063785e-06, country_name='Spain', country_iso_code='ESP', region='galicia', cloud_provider='', cloud_region='', os='Linux-6.16.3-200.fc42.x86_64-x86_64-with-glibc2.41', python_version='3.13.7', codecarbon_version='3.0.4', cpu_count=8, cpu_model='Intel(R) Core(TM) i7-10510U CPU @ 1.80GHz', gpu_count=None, gpu_model=None, longitude=-8.4012, latitude=43.3626, ram_total_size=15.275806427001953, tracking_mode='machine', on_cloud='N', pue=1.0)\n"
     ]
    },
    {
     "name": "stderr",
     "output_type": "stream",
     "text": [
      "[codecarbon WARNING @ 23:36:40] No CPU tracking mode found. Falling back on estimation based on TDP for CPU. \n",
      " Linux OS detected: Please ensure RAPL files exist at /sys/class/powercap/intel-rapl/subsystem to measure CPU\n",
      "\n",
      "[codecarbon INFO @ 23:36:40] CPU Model on constant consumption mode: Intel(R) Core(TM) i7-10510U CPU @ 1.80GHz\n",
      "[codecarbon WARNING @ 23:36:40] No CPU tracking mode found. Falling back on CPU load mode.\n",
      "[codecarbon INFO @ 23:36:40] [setup] GPU Tracking...\n",
      "[codecarbon INFO @ 23:36:40] No GPU found.\n",
      "[codecarbon INFO @ 23:36:40] The below tracking methods have been set up:\n",
      "                RAM Tracking Method: RAM power estimation model\n",
      "                CPU Tracking Method: cpu_load\n",
      "                GPU Tracking Method: Unspecified\n",
      "            \n",
      "[codecarbon INFO @ 23:36:40] >>> Tracker's metadata:\n",
      "[codecarbon INFO @ 23:36:40]   Platform system: Linux-6.16.3-200.fc42.x86_64-x86_64-with-glibc2.41\n",
      "[codecarbon INFO @ 23:36:40]   Python version: 3.13.7\n",
      "[codecarbon INFO @ 23:36:40]   CodeCarbon version: 3.0.4\n",
      "[codecarbon INFO @ 23:36:40]   Available RAM : 15.276 GB\n",
      "[codecarbon INFO @ 23:36:40]   CPU count: 8 thread(s) in 1 physical CPU(s)\n",
      "[codecarbon INFO @ 23:36:40]   CPU model: Intel(R) Core(TM) i7-10510U CPU @ 1.80GHz\n",
      "[codecarbon INFO @ 23:36:40]   GPU count: None\n",
      "[codecarbon INFO @ 23:36:40]   GPU model: None\n",
      "[codecarbon INFO @ 23:36:44] Emissions data (if any) will be saved to file /home/daniel/Devel/UDC/emissions.csv\n",
      "[codecarbon INFO @ 23:36:44] Energy consumed for RAM : 0.000002 kWh. RAM Power : 10.0 W\n",
      "[codecarbon INFO @ 23:36:45] Delta energy consumed for CPU with cpu_load : 0.000000 kWh, power : 1.5289803015 W\n",
      "[codecarbon INFO @ 23:36:45] Energy consumed for All CPU : 0.000000 kWh\n",
      "[codecarbon INFO @ 23:36:45] 0.000002 kWh of electricity used since the beginning.\n"
     ]
    },
    {
     "name": "stdout",
     "output_type": "stream",
     "text": [
      "\n",
      "Carbon emissions from computation: 0.0004 g CO2eq\n",
      "\n",
      "Detailed emissions data: EmissionsData(timestamp='2025-09-07T23:36:45', project_name='codecarbon', run_id='9d45cf40-67cb-439b-99b2-6514d75264a3', experiment_id='5b0fa12a-3dd7-45bb-9766-cc326314d9f1', duration=1.17327335400023, emissions=3.698951888305141e-07, emissions_rate=3.152676974801915e-07, cpu_power=1.5289803015, gpu_power=0.0, ram_power=10.0, cpu_energy=2.824198665381447e-07, gpu_energy=0.0, ram_energy=1.8428038555561621e-06, energy_consumed=2.125223722094307e-06, country_name='Spain', country_iso_code='ESP', region='galicia', cloud_provider='', cloud_region='', os='Linux-6.16.3-200.fc42.x86_64-x86_64-with-glibc2.41', python_version='3.13.7', codecarbon_version='3.0.4', cpu_count=8, cpu_model='Intel(R) Core(TM) i7-10510U CPU @ 1.80GHz', gpu_count=None, gpu_model=None, longitude=-8.4012, latitude=43.3626, ram_total_size=15.275806427001953, tracking_mode='machine', on_cloud='N', pue=1.0)\n"
     ]
    },
    {
     "data": {
      "text/plain": [
       "({'result': 5.6249999999975e+17,\n",
       "  'time_s': 0.6372085539996988,\n",
       "  'energy_kwh': 3.6649334185063785e-06,\n",
       "  'emissions_kgco2': 6.378816614910352e-07,\n",
       "  'method': 'experiment_python'},\n",
       " {'result': 5.6249999999975e+17,\n",
       "  'time_s': 0.1605161469997256,\n",
       "  'energy_kwh': 2.125223722094307e-06,\n",
       "  'emissions_kgco2': 3.698951888305141e-07,\n",
       "  'method': 'experiment_numpy'})"
      ]
     },
     "execution_count": 18,
     "metadata": {},
     "output_type": "execute_result"
    }
   ],
   "source": [
    "from time import perf_counter\n",
    "import numpy as np\n",
    "\n",
    "from codecarbon import EmissionsTracker\n",
    "\n",
    "def experiment_python(N=200_000):\n",
    "    import matha\n",
    "    out = []\n",
    "    append = out.append\n",
    "    for i in range(N):\n",
    "        append(i * (N - i) + math.sin(i))\n",
    "    return sum(out)\n",
    "\n",
    "def experiment_numpy(N=200_000):\n",
    "    a = np.arange(N, dtype=np.float64)\n",
    "    b = np.arange(N, 0, -1, dtype=np.float64)\n",
    "    c = a * b + np.sin(a)\n",
    "    return float(np.sum(c))\n",
    "\n",
    "def measure(func, *args, **kwargs):\n",
    "    tracker = EmissionsTracker()\n",
    "    tracker.start()\n",
    "    t0 = perf_counter()\n",
    "    res = func(*args, **kwargs)\n",
    "    t1 = perf_counter()\n",
    "    emissions = tracker.stop()\n",
    "    print(f\"\\nCarbon emissions from computation: {tracker.final_emissions * 1000:.4f} g CO2eq\")\n",
    "    print(\"\\nDetailed emissions data:\", tracker.final_emissions_data)\n",
    "    energy_kwh = tracker.final_emissions_data.energy_consumed  # estimated energy\n",
    "    return {\n",
    "        \"result\": res,\n",
    "        \"time_s\": t1 - t0,\n",
    "        \"energy_kwh\": energy_kwh,\n",
    "        \"emissions_kgco2\": emissions,\n",
    "        \"method\": func.__name__,\n",
    "    }\n",
    "\n",
    "m_py = measure(experiment_python, 1500000)\n",
    "m_np = measure(experiment_numpy, 1500000)\n",
    "m_py, m_np"
   ]
  },
  {
   "cell_type": "code",
   "execution_count": 19,
   "id": "629b1e8c",
   "metadata": {
    "id": "629b1e8c"
   },
   "outputs": [
    {
     "data": {
      "text/html": [
       "<div>\n",
       "<style scoped>\n",
       "    .dataframe tbody tr th:only-of-type {\n",
       "        vertical-align: middle;\n",
       "    }\n",
       "\n",
       "    .dataframe tbody tr th {\n",
       "        vertical-align: top;\n",
       "    }\n",
       "\n",
       "    .dataframe thead th {\n",
       "        text-align: right;\n",
       "    }\n",
       "</style>\n",
       "<table border=\"1\" class=\"dataframe\">\n",
       "  <thead>\n",
       "    <tr style=\"text-align: right;\">\n",
       "      <th></th>\n",
       "      <th>method</th>\n",
       "      <th>time_s</th>\n",
       "      <th>energy_kwh</th>\n",
       "      <th>emissions_kgco2</th>\n",
       "    </tr>\n",
       "  </thead>\n",
       "  <tbody>\n",
       "    <tr>\n",
       "      <th>0</th>\n",
       "      <td>experiment_python</td>\n",
       "      <td>0.637209</td>\n",
       "      <td>0.000004</td>\n",
       "      <td>0.000001</td>\n",
       "    </tr>\n",
       "    <tr>\n",
       "      <th>1</th>\n",
       "      <td>experiment_numpy</td>\n",
       "      <td>0.160516</td>\n",
       "      <td>0.000002</td>\n",
       "      <td>0.000000</td>\n",
       "    </tr>\n",
       "  </tbody>\n",
       "</table>\n",
       "</div>"
      ],
      "text/plain": [
       "              method    time_s  energy_kwh  emissions_kgco2\n",
       "0  experiment_python  0.637209    0.000004         0.000001\n",
       "1   experiment_numpy  0.160516    0.000002         0.000000"
      ]
     },
     "execution_count": 19,
     "metadata": {},
     "output_type": "execute_result"
    }
   ],
   "source": [
    "import pandas as pd\n",
    "from math import isfinite\n",
    "\n",
    "df_cc = pd.DataFrame([m_py, m_np])\n",
    "cols = [\"method\", \"time_s\", \"energy_kwh\", \"emissions_kgco2\"]\n",
    "for c in cols[1:]:\n",
    "    df_cc[c] = df_cc[c].apply(lambda x: round(x, 6) if (isinstance(x, (int, float)) and isfinite(x)) else x)\n",
    "df_cc[cols]"
   ]
  },
  {
   "cell_type": "markdown",
   "id": "596be613",
   "metadata": {
    "id": "596be613"
   },
   "source": [
    "\n",
    "**Quick read:** on typical machines, the **vectorized NumPy** approach tends to be faster and consume less energy than an equivalent Python loop, leading to **lower emissions** for the same work.\n",
    "\n",
    "> Note: numbers are **estimates** and depend on your hardware and system load. On GPU/TPU, also consider data movement overheads: speeding up doesn't always reduce total energy if the problem is very small.\n"
   ]
  },
  {
   "cell_type": "markdown",
   "id": "f5268097",
   "metadata": {
    "id": "f5268097"
   },
   "source": [
    "\n",
    "### 11.4) Good practices (recap)\n",
    "1. **Profile** and use measurement tools (time + energy).\n",
    "2. **Vectorize** or use native libraries (BLAS, FFT).\n",
    "3. **Mind memory** (dtypes and copies).\n",
    "4. **Batching** and lazy loading for large datasets.\n",
    "5. **Document** trade-offs (time vs energy vs accuracy).\n"
   ]
  }
 ],
 "metadata": {
  "colab": {
   "provenance": []
  },
  "kernelspec": {
   "display_name": "Python 3 (ipykernel)",
   "language": "python",
   "name": "python3"
  },
  "language_info": {
   "codemirror_mode": {
    "name": "ipython",
    "version": 3
   },
   "file_extension": ".py",
   "mimetype": "text/x-python",
   "name": "python",
   "nbconvert_exporter": "python",
   "pygments_lexer": "ipython3",
   "version": "3.13.7"
  }
 },
 "nbformat": 4,
 "nbformat_minor": 5
}
