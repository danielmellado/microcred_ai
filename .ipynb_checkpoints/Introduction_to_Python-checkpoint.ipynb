{
  "cells": [
    {
      "cell_type": "markdown",
      "id": "7f4a8f25",
      "metadata": {
        "id": "7f4a8f25"
      },
      "source": [
        "\n",
        "# Introduction to Python 🐍\n",
        "**Pre-work notebook** for the course:  \n",
        "**\"Green Algorithms for Artificial Intelligence: Design and Implementation\"**\n",
        "\n",
        "> Goal: become comfortable reading, writing, and running basic Python with good efficiency practices (time, memory, and energy) before the course begins.\n"
      ]
    },
    {
      "cell_type": "markdown",
      "id": "ab13d772",
      "metadata": {
        "id": "ab13d772"
      },
      "source": [
        "\n",
        "## What you'll find in this notebook\n",
        "1. Environment setup\n",
        "2. Running cells and getting help\n",
        "3. Essential syntax: variables, types, and operations\n",
        "4. Control structures\n",
        "5. Functions and modules\n",
        "6. Data structures (lists, tuples, dictionaries, sets)\n",
        "7. File I/O with *pathlib*\n",
        "8. NumPy and vectorization: foundations for efficient compute\n",
        "9. Pandas: data manipulation\n",
        "10. Quick visualization with Matplotlib\n",
        "11. Performance & efficiency: **CodeCarbon** energy/emissions tracking\n",
        "11.5. Template: **Hugging Face Transformers** + **CodeCarbon** (quick fine-tuning on SST-2)\n",
        "12. Practice exercises with solutions (at the end)\n"
      ]
    },
    {
      "cell_type": "markdown",
      "id": "6c705cc2",
      "metadata": {
        "id": "6c705cc2"
      },
      "source": [
        "## 1) Environment setup\n",
        "## How to open and run this notebook in **Google Colab**\n",
        "1. Go to Google Colab.\n",
        "2. **File → Upload notebook** and select this `.ipynb` file.\n",
        "3. (Optional) **Runtime → Change runtime type** and choose **GPU** or **TPU** if needed.\n",
        "4. Install dependencies in a cell, for example:\n",
        "   ```python\n",
        "   !pip -q install numpy pandas matplotlib codecarbon\n",
        "   ```\n",
        "5. Run the cells in order (**Runtime → Run all**) and inspect time & energy metrics via **CodeCarbon**.\n",
        "6. To save changes in Drive: **File → Save a copy in Drive**.\n",
        "\n",
        "> Tip: when measuring energy with CodeCarbon in Colab, avoid heavy tasks in other tabs to reduce measurement noise.\n"
      ]
    },
    {
      "cell_type": "markdown",
      "id": "a0e8f8b6",
      "metadata": {
        "id": "a0e8f8b6"
      },
      "source": [
        "\n",
        "## 2) Running cells and asking for help\n",
        "- Run a cell with **Shift+Enter**.\n",
        "- Use `help(obj)` or `obj?` for quick docs.\n"
      ]
    },
    {
      "cell_type": "code",
      "execution_count": null,
      "id": "068f9ceb",
      "metadata": {
        "id": "068f9ceb"
      },
      "outputs": [],
      "source": [
        "# Run this\n",
        "x = 42\n",
        "print(\"Hello, Python. x =\", x)"
      ]
    },
    {
      "cell_type": "code",
      "execution_count": null,
      "id": "83c60344",
      "metadata": {
        "id": "83c60344"
      },
      "outputs": [],
      "source": [
        "# Quick help\n",
        "help(len)  # or use len? in an interactive cell"
      ]
    },
    {
      "cell_type": "markdown",
      "id": "46f73e4f",
      "metadata": {
        "id": "46f73e4f"
      },
      "source": [
        "\n",
        "## 3) Essential syntax: variables, types, and operations\n",
        "Python is **dynamic** and **strongly typed**. Common types:\n",
        "- `int`, `float`, `bool`, `str`, `None`\n",
        "- Arithmetic operators: `+ - * / // % **`\n",
        "- Comparison operators: `== != < <= > >=`\n",
        "- Logical operators: `and or not`\n"
      ]
    },
    {
      "cell_type": "code",
      "execution_count": null,
      "id": "88f13a73",
      "metadata": {
        "id": "88f13a73"
      },
      "outputs": [],
      "source": [
        "a = 10\n",
        "b = 3\n",
        "print(\"sum:\", a + b)\n",
        "print(\"power:\", a ** b)\n",
        "print(\"true division:\", a / b)\n",
        "print(\"integer division:\", a // b)\n",
        "print(\"modulo:\", a % b)\n",
        "print(\"a>b?:\", a > b)\n",
        "\n",
        "text = \"Sustainable AI\"\n",
        "print(text.upper(), len(text))"
      ]
    },
    {
      "cell_type": "markdown",
      "id": "9acff2ec",
      "metadata": {
        "id": "9acff2ec"
      },
      "source": [
        "\n",
        "## 4) Control structures\n",
        "### Conditionals and loops\n"
      ]
    },
    {
      "cell_type": "code",
      "execution_count": null,
      "id": "a9c92d15",
      "metadata": {
        "id": "a9c92d15"
      },
      "outputs": [],
      "source": [
        "n = 7\n",
        "\n",
        "if n % 2 == 0:\n",
        "    print(\"even\")\n",
        "else:\n",
        "    print(\"odd\")\n",
        "\n",
        "# Loops\n",
        "for i in range(5):\n",
        "    print(\"i:\", i)\n",
        "\n",
        "# while with condition\n",
        "s = 0\n",
        "k = 1\n",
        "while k <= 5:\n",
        "    s += k\n",
        "    k += 1\n",
        "s"
      ]
    },
    {
      "cell_type": "markdown",
      "id": "709ddd09",
      "metadata": {
        "id": "709ddd09"
      },
      "source": [
        "\n",
        "## 5) Functions and modules\n",
        "- Define functions with `def`.\n",
        "- Document with *docstrings*.\n",
        "- Import modules with `import`.\n"
      ]
    },
    {
      "cell_type": "code",
      "execution_count": null,
      "id": "544cacc4",
      "metadata": {
        "id": "544cacc4"
      },
      "outputs": [],
      "source": [
        "def is_prime(n: int) -> bool:\n",
        "    \"\"\"Return True if n is prime, False otherwise.\"\"\"\n",
        "    if n < 2:\n",
        "        return False\n",
        "    if n % 2 == 0:\n",
        "        return n == 2\n",
        "    i = 3\n",
        "    while i * i <= n:\n",
        "        if n % i == 0:\n",
        "            return False\n",
        "        i += 2\n",
        "    return True\n",
        "\n",
        "[ (k, is_prime(k)) for k in range(1, 20) ]"
      ]
    },
    {
      "cell_type": "code",
      "execution_count": null,
      "id": "3fc9becd",
      "metadata": {
        "id": "3fc9becd"
      },
      "outputs": [],
      "source": [
        "import math\n",
        "math.sqrt(144), math.pi"
      ]
    },
    {
      "cell_type": "markdown",
      "id": "f41786cd",
      "metadata": {
        "id": "f41786cd"
      },
      "source": [
        "\n",
        "## 6) Data structures\n"
      ]
    },
    {
      "cell_type": "code",
      "execution_count": null,
      "id": "b217263e",
      "metadata": {
        "id": "b217263e"
      },
      "outputs": [],
      "source": [
        "# Lists (mutable)\n",
        "nums = [3, 1, 4, 1, 5, 9]\n",
        "nums.append(2)\n",
        "nums.sort()\n",
        "nums"
      ]
    },
    {
      "cell_type": "code",
      "execution_count": null,
      "id": "4de1d3eb",
      "metadata": {
        "id": "4de1d3eb"
      },
      "outputs": [],
      "source": [
        "# Tuples (immutable)\n",
        "point = (10, 20)\n",
        "point"
      ]
    },
    {
      "cell_type": "code",
      "execution_count": null,
      "id": "8aa023c3",
      "metadata": {
        "id": "8aa023c3"
      },
      "outputs": [],
      "source": [
        "# Dictionaries (key->value)\n",
        "energy = {\"CPU\": 65.0, \"GPU\": 150.0, \"TPU\": 120.0}\n",
        "energy[\"GPU\"]"
      ]
    },
    {
      "cell_type": "code",
      "execution_count": null,
      "id": "b1f580d5",
      "metadata": {
        "id": "b1f580d5"
      },
      "outputs": [],
      "source": [
        "# Sets (no duplicates)\n",
        "unique = set([1, 2, 2, 3, 3, 3])\n",
        "unique"
      ]
    },
    {
      "cell_type": "markdown",
      "id": "b25d7019",
      "metadata": {
        "id": "b25d7019"
      },
      "source": [
        "\n",
        "## 7) File I/O and *pathlib*\n"
      ]
    },
    {
      "cell_type": "code",
      "execution_count": null,
      "id": "d512908c",
      "metadata": {
        "id": "d512908c"
      },
      "outputs": [],
      "source": [
        "from pathlib import Path\n",
        "\n",
        "p = Path(\"demo.txt\")\n",
        "p.write_text(\"Hello file!\\nThis is an example.\")\n",
        "print(\"Content:\\n\", p.read_text())\n",
        "\n",
        "# Clean up\n",
        "p.unlink()"
      ]
    },
    {
      "cell_type": "markdown",
      "id": "8f3e1dd4",
      "metadata": {
        "id": "8f3e1dd4"
      },
      "source": [
        "\n",
        "## 8) NumPy and vectorization: foundations for efficient compute\n",
        "- `numpy` offers **efficient arrays** and vectorized operations (avoid Python loops).\n",
        "- Key for performance and energy: **less interpreter, more bulk operations**.\n"
      ]
    },
    {
      "cell_type": "code",
      "execution_count": null,
      "id": "2187df86",
      "metadata": {
        "id": "2187df86"
      },
      "outputs": [],
      "source": [
        "import numpy as np\n",
        "\n",
        "a = np.arange(100000, dtype=np.float64)\n",
        "b = np.arange(100000, 0, -1, dtype=np.float64)\n",
        "\n",
        "# Vectorized operation\n",
        "c = a * b + np.sin(a)\n",
        "c[:5], c.shape, c.dtype"
      ]
    },
    {
      "cell_type": "code",
      "execution_count": null,
      "id": "c7e57b3a",
      "metadata": {
        "id": "c7e57b3a"
      },
      "outputs": [],
      "source": [
        "# Quick comparison (rough, not exact timing)\n",
        "import time\n",
        "\n",
        "def python_loop(a_list, b_list):\n",
        "    out = []\n",
        "    append = out.append\n",
        "    import math\n",
        "    for x, y in zip(a_list, b_list):\n",
        "        append(x*y + math.sin(x))\n",
        "    return out\n",
        "\n",
        "a_list = list(range(5000000))\n",
        "b_list = list(range(5000000, 0, -1))\n",
        "\n",
        "t0 = time.perf_counter()\n",
        "out_list = python_loop(a_list, b_list)\n",
        "t1 = time.perf_counter()\n",
        "\n",
        "t2 = time.perf_counter()\n",
        "out_np = np.array(a_list) * np.array(b_list) + np.sin(np.array(a_list))\n",
        "t3 = time.perf_counter()\n",
        "\n",
        "t4 = time.perf_counter()\n",
        "out_np = a * b + np.sin(a)\n",
        "t5 = time.perf_counter()\n",
        "\n",
        "print(\"Python loop time:\", round(t1 - t0, 4), \"s\")\n",
        "print(\"NumPy time (with creation):\", round(t3 - t2, 4), \"s\")\n",
        "print(\"NumPy time (arrays already created):\", round(t5 - t4, 4), \"s\")"
      ]
    },
    {
      "cell_type": "markdown",
      "id": "30c74b87",
      "metadata": {
        "id": "30c74b87"
      },
      "source": [
        "\n",
        "## 9) Pandas: data manipulation\n"
      ]
    },
    {
      "cell_type": "code",
      "execution_count": null,
      "id": "9585178c",
      "metadata": {
        "id": "9585178c"
      },
      "outputs": [],
      "source": [
        "import pandas as pd\n",
        "\n",
        "df = pd.DataFrame({\n",
        "    \"algorithm\": [\"A\", \"B\", \"C\", \"A\", \"B\", \"C\"],\n",
        "    \"accuracy\": [0.81, 0.85, 0.83, 0.82, 0.84, 0.86],\n",
        "    \"energy_wh\": [5.1, 7.3, 6.0, 5.0, 7.1, 6.2],\n",
        "    \"time_s\": [1.2, 2.1, 1.5, 1.1, 2.0, 1.6]\n",
        "})\n",
        "df.head()"
      ]
    },
    {
      "cell_type": "code",
      "execution_count": null,
      "id": "e456a155",
      "metadata": {
        "id": "e456a155"
      },
      "outputs": [],
      "source": [
        "# Aggregations\n",
        "summary = df.groupby(\"algorithm\").agg(accuracy_mean=(\"accuracy\", \"mean\"),\n",
        "                                      energy_mean=(\"energy_wh\", \"mean\"),\n",
        "                                      time_mean=(\"time_s\", \"mean\"))\n",
        "summary"
      ]
    },
    {
      "cell_type": "markdown",
      "id": "3bc683be",
      "metadata": {
        "id": "3bc683be"
      },
      "source": [
        "\n",
        "## 10) Quick visualization with Matplotlib\n",
        "> Tip: avoid hard-coding styles/colors when you just need a quick look.\n"
      ]
    },
    {
      "cell_type": "code",
      "execution_count": null,
      "id": "2dd70632",
      "metadata": {
        "id": "2dd70632"
      },
      "outputs": [],
      "source": [
        "import matplotlib.pyplot as plt\n",
        "\n",
        "summary_sorted = summary.sort_values(\"accuracy_mean\")\n",
        "plt.figure()\n",
        "plt.bar(summary_sorted.index, summary_sorted[\"accuracy_mean\"])\n",
        "plt.title(\"Mean accuracy per algorithm\")\n",
        "plt.xlabel(\"Algorithm\")\n",
        "plt.ylabel(\"Mean accuracy\")\n",
        "plt.show()"
      ]
    },
    {
      "cell_type": "markdown",
      "id": "66f9dd59",
      "metadata": {
        "id": "66f9dd59"
      },
      "source": [
        "\n",
        "## 11) Performance and efficiency: time, memory, and **energy** with CodeCarbon\n",
        "We'll measure **execution time**, **estimated energy consumption**, and **CO₂e emissions** using **[CodeCarbon](https://mlco2.github.io/codecarbon/)**.\n",
        "\n",
        "**Key ideas:**\n",
        "- **Measure before you optimize**: avoid blind changes.\n",
        "- **Vectorize** when possible (less interpreter → less CPU → less energy).\n",
        "- **Reduce copies** and pick proper dtypes (`float32` vs `float64`).\n",
        "- **Be mindful of parallelism**: more threads/GPUs do not always mean less total energy for a given SLA.\n"
      ]
    },
    {
      "cell_type": "markdown",
      "id": "da676be2",
      "metadata": {
        "id": "da676be2"
      },
      "source": [
        "\n",
        "### 11.1) Setup: install CodeCarbon (Colab or local)\n",
        "Run the cell below if you don't have `codecarbon` installed. In **Google Colab** it is typically enough.\n"
      ]
    },
    {
      "cell_type": "code",
      "execution_count": null,
      "id": "bee8f878",
      "metadata": {
        "id": "bee8f878"
      },
      "outputs": [],
      "source": [
        "# Install CodeCarbon if needed (ignore if already installed).\n",
        "# In some environments you may need to restart the kernel after installation.\n",
        "try:\n",
        "    import codecarbon  # noqa: F401\n",
        "except ImportError:\n",
        "    !pip install codecarbon"
      ]
    },
    {
      "cell_type": "markdown",
      "id": "0a5a2afd",
      "metadata": {
        "id": "0a5a2afd"
      },
      "source": [
        "\n",
        "### 11.2) Measuring a simple experiment (pure Python vs NumPy)\n",
        "We compare two approaches for the same task: a **Python loop** and a **vectorized NumPy** version.  \n",
        "**CodeCarbon** will estimate energy and emissions. For portability, we use **offline** mode and set the country to **Spain (ESP)**.\n"
      ]
    },
    {
      "cell_type": "markdown",
      "id": "9e3ac12d",
      "metadata": {
        "id": "9e3ac12d"
      },
      "source": [
        "**What this cell does**\n",
        "\n",
        "Define two equivalent functions (Python loop vs NumPy) and measure **time**, **energy**, and **emissions** with CodeCarbon (offline, ESP)."
      ]
    },
    {
      "cell_type": "code",
      "execution_count": null,
      "id": "473ddd04",
      "metadata": {
        "id": "473ddd04"
      },
      "outputs": [],
      "source": [
        "from time import perf_counter\n",
        "import numpy as np\n",
        "\n",
        "from codecarbon import EmissionsTracker\n",
        "\n",
        "def experiment_python(N=200_000):\n",
        "    import math\n",
        "    out = []\n",
        "    append = out.append\n",
        "    for i in range(N):\n",
        "        append(i * (N - i) + math.sin(i))\n",
        "    return sum(out)\n",
        "\n",
        "def experiment_numpy(N=200_000):\n",
        "    a = np.arange(N, dtype=np.float64)\n",
        "    b = np.arange(N, 0, -1, dtype=np.float64)\n",
        "    c = a * b + np.sin(a)\n",
        "    return float(np.sum(c))\n",
        "\n",
        "def measure(func, *args, **kwargs):\n",
        "    tracker = EmissionsTracker()\n",
        "    tracker.start()\n",
        "    t0 = perf_counter()\n",
        "    res = func(*args, **kwargs)\n",
        "    t1 = perf_counter()\n",
        "    emissions = tracker.stop()\n",
        "    print(f\"\\nCarbon emissions from computation: {tracker.final_emissions * 1000:.4f} g CO2eq\")\n",
        "    print(\"\\nDetailed emissions data:\", tracker.final_emissions_data)\n",
        "    energy_kwh = tracker.final_emissions_data.energy_consumed  # estimated energy\n",
        "    return {\n",
        "        \"result\": res,\n",
        "        \"time_s\": t1 - t0,\n",
        "        \"energy_kwh\": energy_kwh,\n",
        "        \"emissions_kgco2\": emissions,\n",
        "        \"method\": func.__name__,\n",
        "    }\n",
        "\n",
        "m_py = measure(experiment_python, 1500000)\n",
        "m_np = measure(experiment_numpy, 1500000)\n",
        "m_py, m_np"
      ]
    },
    {
      "cell_type": "code",
      "execution_count": null,
      "id": "629b1e8c",
      "metadata": {
        "id": "629b1e8c"
      },
      "outputs": [],
      "source": [
        "import pandas as pd\n",
        "from math import isfinite\n",
        "\n",
        "df_cc = pd.DataFrame([m_py, m_np])\n",
        "cols = [\"method\", \"time_s\", \"energy_kwh\", \"emissions_kgco2\"]\n",
        "for c in cols[1:]:\n",
        "    df_cc[c] = df_cc[c].apply(lambda x: round(x, 6) if (isinstance(x, (int, float)) and isfinite(x)) else x)\n",
        "df_cc[cols]"
      ]
    },
    {
      "cell_type": "markdown",
      "id": "596be613",
      "metadata": {
        "id": "596be613"
      },
      "source": [
        "\n",
        "**Quick read:** on typical machines, the **vectorized NumPy** approach tends to be faster and consume less energy than an equivalent Python loop, leading to **lower emissions** for the same work.\n",
        "\n",
        "> Note: numbers are **estimates** and depend on your hardware and system load. On GPU/TPU, also consider data movement overheads: speeding up doesn't always reduce total energy if the problem is very small.\n"
      ]
    },
    {
      "cell_type": "markdown",
      "id": "f5268097",
      "metadata": {
        "id": "f5268097"
      },
      "source": [
        "\n",
        "### 11.4) Good practices (recap)\n",
        "1. **Profile** and use measurement tools (time + energy).\n",
        "2. **Vectorize** or use native libraries (BLAS, FFT).\n",
        "3. **Mind memory** (dtypes and copies).\n",
        "4. **Batching** and lazy loading for large datasets.\n",
        "5. **Document** trade-offs (time vs energy vs accuracy).\n"
      ]
    }
  ],
  "metadata": {
    "kernelspec": {
      "display_name": "Python 3",
      "language": "python",
      "name": "python3"
    },
    "language_info": {
      "name": "python",
      "version": "3.x"
    },
    "colab": {
      "provenance": []
    }
  },
  "nbformat": 4,
  "nbformat_minor": 5
}